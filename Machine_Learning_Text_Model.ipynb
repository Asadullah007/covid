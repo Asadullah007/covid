{
  "nbformat": 4,
  "nbformat_minor": 0,
  "metadata": {
    "colab": {
      "name": "Machine_Learning_Text_Model.ipynb",
      "provenance": [],
      "collapsed_sections": []
    },
    "kernelspec": {
      "name": "python3",
      "display_name": "Python 3"
    }
  },
  "cells": [
    {
      "cell_type": "code",
      "metadata": {
        "id": "7PnU1260K4ou",
        "colab_type": "code",
        "colab": {}
      },
      "source": [
        "# Imports\n",
        "\n",
        "import pandas as pd\n",
        "import numpy as np\n",
        "import re\n",
        "from sklearn.ensemble import RandomForestClassifier as rf\n",
        "from sklearn.model_selection import train_test_split\n",
        "from keras.preprocessing.sequence import pad_sequences\n",
        "from sklearn.svm import SVC\n",
        "from sklearn.metrics import confusion_matrix\n",
        "import seaborn\n",
        "import matplotlib.pyplot as plt"
      ],
      "execution_count": 0,
      "outputs": []
    },
    {
      "cell_type": "code",
      "metadata": {
        "id": "gUG0-ulMA7NB",
        "colab_type": "code",
        "outputId": "7f578d67-4d3e-410e-8d0e-342f5b997985",
        "colab": {
          "base_uri": "https://localhost:8080/",
          "height": 34
        }
      },
      "source": [
        "# Mount the drive to access the properly labeled patient information\n",
        "\n",
        "from google.colab import drive\n",
        "drive.mount('/content/drive')"
      ],
      "execution_count": 0,
      "outputs": [
        {
          "output_type": "stream",
          "text": [
            "Drive already mounted at /content/drive; to attempt to forcibly remount, call drive.mount(\"/content/drive\", force_remount=True).\n"
          ],
          "name": "stdout"
        }
      ]
    },
    {
      "cell_type": "code",
      "metadata": {
        "id": "Xc1b6hkvI0uc",
        "colab_type": "code",
        "colab": {}
      },
      "source": [
        "# Read the curated .csv file into a pandas df\n",
        "\n",
        "\n",
        "curated_results = pd.read_csv('/content/drive/My Drive/patient-test-results/curated-outputs/output-04-16-2020-1.csv')\n",
        "curated_results\n",
        "\n",
        "\n",
        "\n"
      ],
      "execution_count": 0,
      "outputs": []
    },
    {
      "cell_type": "code",
      "metadata": {
        "id": "qIWbizsiCxqv",
        "colab_type": "code",
        "colab": {}
      },
      "source": [
        "# Extract only the POSITIVE and NEGATIVE labeled data\n",
        "\n",
        "curated_results_f1 = curated_results[curated_results.patient_mrn != 'UNMAPPED']\n",
        "\n",
        "# TODO: Fix this filter, as it is not working\n",
        "curated_results_f2 = curated_results_f1[curated_results.corona_test\t!= 'REPEAT ']\n",
        "\n",
        "curated_results_f2.head()"
      ],
      "execution_count": 0,
      "outputs": []
    },
    {
      "cell_type": "code",
      "metadata": {
        "id": "hV8i7iuzF3GA",
        "colab_type": "code",
        "outputId": "ad007dc0-eea1-406f-9fcc-7e30c4a094ae",
        "colab": {
          "base_uri": "https://localhost:8080/",
          "height": 51
        }
      },
      "source": [
        "# Convert to a np array \n",
        "\n",
        "\n",
        "positive_sample_df =  curated_results_f2[curated_results_f2.corona_test == 'POSTIVE']\n",
        "negative_sample_df = curated_results_f2[curated_results_f2.corona_test == 'NEGATIVE']\n",
        "\n",
        "positive_sample_array = np.asarray(positive_sample_df)\n",
        "negative_sample_array = np.asarray(negative_sample_df)\n",
        "\n",
        "\n",
        "print(\"There are \" , positive_sample_array.shape[0] , \"positive samples in total\")\n",
        "print(\"There are \" , negative_sample_array.shape[0] , \"negative samples in total\")\n",
        "\n"
      ],
      "execution_count": 0,
      "outputs": [
        {
          "output_type": "stream",
          "text": [
            "There are  6 positive samples in total\n",
            "There are  36 negative samples in total\n"
          ],
          "name": "stdout"
        }
      ]
    },
    {
      "cell_type": "code",
      "metadata": {
        "id": "5o0cYQj6LS7V",
        "colab_type": "code",
        "outputId": "773582f9-8d43-48f4-c711-651b1fe3639d",
        "colab": {
          "base_uri": "https://localhost:8080/",
          "height": 54
        }
      },
      "source": [
        "# Extract Medical History and convert to dictionary with numbers\n",
        "\n",
        "med_history_array = curated_results_f2['medical_history']\n",
        "\n",
        "\n",
        "\n",
        "#med_history_array = str(med_history_array)\n",
        "\n",
        "\n",
        "## Parse the med_history_array and find unique comma seperated strings \n",
        "\n",
        "med_history_dict = {}\n",
        "index = 0\n",
        "\n",
        "for entry in med_history_array:\n",
        "    entry = str(entry)\n",
        "    history_list = entry.split(\",\")\n",
        "    for hist in history_list:\n",
        "      hist = hist.strip()\n",
        "      hist_string = str(hist)\n",
        "      if hist_string not in med_history_dict and 'None' not in hist and hist is not '' and 'nan' not in hist_string:    \n",
        "        med_history_dict[hist_string] = index       \n",
        "        index += 1\n",
        "\n",
        "\n",
        "print(\"The dictionary with numbers: \", med_history_dict)\n"
      ],
      "execution_count": 0,
      "outputs": [
        {
          "output_type": "stream",
          "text": [
            "The dictionary with numbers:  {'Asthma or chronic lung disease': 0, 'Disease or conditions that make it harder to cough': 1, 'Diabetes with complications': 2, 'Congestive heart failure': 3}\n"
          ],
          "name": "stdout"
        }
      ]
    },
    {
      "cell_type": "code",
      "metadata": {
        "id": "BIO-NOHWRwAV",
        "colab_type": "code",
        "outputId": "c1110fbc-69d9-4a3d-bb6d-235a7833879d",
        "colab": {
          "base_uri": "https://localhost:8080/",
          "height": 34
        }
      },
      "source": [
        "# Assign the patients numerical history combination to an array\n",
        "\n",
        "x_hist_text_train = []\n",
        "\n",
        "\n",
        "for entry in curated_results_f2['medical_history']:\n",
        "  entry = str(entry)\n",
        "  num_seq = []\n",
        "  if 'None' not in entry:\n",
        "    for string in entry.split(\",\"):\n",
        "      if string is not '' and 'nan' not in string:\n",
        "        num_seq.append(med_history_dict[string])\n",
        "\n",
        "\n",
        "  final_array = np.asarray(num_seq) \n",
        "\n",
        "  x_hist_text_train.append(final_array)\n",
        "\n",
        "\n",
        "x_hist_text_train = np.asarray(x_hist_text_train)\n",
        "print('The shape of the x_text_train is ' , x_hist_text_train.shape)\n",
        "\n",
        "x_hist_text_train = pad_sequences(x_hist_text_train)\n",
        "\n",
        "\n"
      ],
      "execution_count": 0,
      "outputs": [
        {
          "output_type": "stream",
          "text": [
            "The shape of the x_text_train is  (42,)\n"
          ],
          "name": "stdout"
        }
      ]
    },
    {
      "cell_type": "code",
      "metadata": {
        "id": "0l5jU_sChzSC",
        "colab_type": "code",
        "outputId": "f8ab253a-4be7-4d77-9dd4-589b54beb7e0",
        "colab": {
          "base_uri": "https://localhost:8080/",
          "height": 54
        }
      },
      "source": [
        "# Extract patient reported symptoms and convert to dictionary with numbers \n",
        "\n",
        "\n",
        "## Parse the med_history_array and find unique comma seperated strings \n",
        "\n",
        "symptom_dict = {}\n",
        "index = 7\n",
        "\n",
        "for entry in curated_results_f2['patient_reported_symptoms']:\n",
        "    entry = str(entry)\n",
        "    split_entry = re.findall('[A-Z][^A-Z]*', entry)\n",
        "    for symptom in split_entry:\n",
        "      symptom = symptom.strip().replace(',' , '')\n",
        "      \n",
        "      if symptom not in symptom_dict and 'None' not in symptom and 'nan' not in symptom:\n",
        "        symptom_dict[symptom] = index\n",
        "        index += 1\n",
        "\n",
        "print(\"The dictionary with numbers: \", symptom_dict)\n"
      ],
      "execution_count": 0,
      "outputs": [
        {
          "output_type": "stream",
          "text": [
            "The dictionary with numbers:  {'Fever chills or sweating': 7, 'Shortness of breath': 8, 'Loss of taste': 9, 'Loss of smell': 10, 'New or worsening cough': 11, 'Sore throat': 12, 'Body aches': 13}\n"
          ],
          "name": "stdout"
        }
      ]
    },
    {
      "cell_type": "code",
      "metadata": {
        "id": "jg4wy2FsnATn",
        "colab_type": "code",
        "outputId": "006e56ca-3b66-456b-e27e-02f71f4740fa",
        "colab": {
          "base_uri": "https://localhost:8080/",
          "height": 34
        }
      },
      "source": [
        "# Assign the patients numerical symptom combination to an array\n",
        "\n",
        "x_symp_text_train =  [] #np.zeros(len(curated_results_f2['patient_reported_symptoms']))\n",
        "\n",
        "\n",
        "for entry in curated_results_f2['patient_reported_symptoms']:\n",
        "  entry = str(entry)\n",
        "  num_seq = []\n",
        "  \n",
        "    \n",
        "  split_entry = re.findall('[A-Z][^A-Z]*', entry)\n",
        "\n",
        "  for symptom in split_entry:\n",
        "      symptom = symptom.strip().replace(',' , '')\n",
        "\n",
        "      if 'None' not in symptom and 'nan' not in symptom:\n",
        "        num_seq.append(symptom_dict[symptom])\n",
        "\n",
        "  final_array = np.asarray(num_seq) \n",
        "\n",
        "  x_symp_text_train.append(final_array)\n",
        "    \n",
        "\n",
        "x_symp_text_train = np.asarray(x_symp_text_train)\n",
        "print('The shape of the x_text_train is ' , x_symp_text_train.shape)\n",
        "\n",
        "x_symp_text_train = pad_sequences(x_symp_text_train)\n",
        "\n",
        "\n",
        "\n"
      ],
      "execution_count": 0,
      "outputs": [
        {
          "output_type": "stream",
          "text": [
            "The shape of the x_text_train is  (42,)\n"
          ],
          "name": "stdout"
        }
      ]
    },
    {
      "cell_type": "code",
      "metadata": {
        "id": "S_9KCZRZGn-m",
        "colab_type": "code",
        "outputId": "786f2f52-90ee-42b0-e2f0-7bda3a1af783",
        "colab": {
          "base_uri": "https://localhost:8080/",
          "height": 119
        }
      },
      "source": [
        "# Convert the smoking info into digits \n",
        "\n",
        "curated_results_f2.loc[curated_results_f2['smoker'] == 'no', 'smoker'] = 0.0\n",
        "curated_results_f2.loc[curated_results_f2['smoker'] == 'yes', 'smoker'] = 1.0\n",
        "smoker_array = curated_results_f2['smoker'].fillna(-1.0)\n",
        "\n",
        "\n",
        "smoking_array = np.asarray(curated_results_f2['smoker'])\n",
        "age_array = np.asarray(curated_results_f2['age'])\n"
      ],
      "execution_count": 0,
      "outputs": [
        {
          "output_type": "stream",
          "text": [
            "/usr/local/lib/python3.6/dist-packages/pandas/core/indexing.py:966: SettingWithCopyWarning: \n",
            "A value is trying to be set on a copy of a slice from a DataFrame.\n",
            "Try using .loc[row_indexer,col_indexer] = value instead\n",
            "\n",
            "See the caveats in the documentation: https://pandas.pydata.org/pandas-docs/stable/user_guide/indexing.html#returning-a-view-versus-a-copy\n",
            "  self.obj[item] = s\n"
          ],
          "name": "stderr"
        }
      ]
    },
    {
      "cell_type": "code",
      "metadata": {
        "id": "ZoMt2OpUS-8G",
        "colab_type": "code",
        "outputId": "8e950521-a639-4347-b5c9-8b10a2fd74ed",
        "colab": {
          "base_uri": "https://localhost:8080/",
          "height": 119
        }
      },
      "source": [
        "# Convert the y strings to digits\n",
        "\n",
        "curated_results_f2.loc[curated_results_f2['corona_test'] == 'NEGATIVE', 'corona_test'] = 0.0\n",
        "curated_results_f2.loc[curated_results_f2['corona_test'] == 'POSTIVE', 'corona_test'] = 1.0\n",
        "#df.loc[df['corona_test'] == 'Not Tested', 'corona_test'] = -1\n",
        "\n",
        "y_text_array = np.asarray(curated_results_f2['corona_test'])\n",
        "\n",
        "\n"
      ],
      "execution_count": 0,
      "outputs": [
        {
          "output_type": "stream",
          "text": [
            "/usr/local/lib/python3.6/dist-packages/pandas/core/indexing.py:966: SettingWithCopyWarning: \n",
            "A value is trying to be set on a copy of a slice from a DataFrame.\n",
            "Try using .loc[row_indexer,col_indexer] = value instead\n",
            "\n",
            "See the caveats in the documentation: https://pandas.pydata.org/pandas-docs/stable/user_guide/indexing.html#returning-a-view-versus-a-copy\n",
            "  self.obj[item] = s\n"
          ],
          "name": "stderr"
        }
      ]
    },
    {
      "cell_type": "code",
      "metadata": {
        "id": "0PR9NmKPo7sc",
        "colab_type": "code",
        "outputId": "0398dd21-3383-4c08-a19c-1d5ce4f9fad1",
        "colab": {
          "base_uri": "https://localhost:8080/",
          "height": 34
        }
      },
      "source": [
        "\n",
        "print('The shape of the y_text_train is ' , y_text_array.shape)\n"
      ],
      "execution_count": 335,
      "outputs": [
        {
          "output_type": "stream",
          "text": [
            "The shape of the y_text_train is  (42,)\n"
          ],
          "name": "stdout"
        }
      ]
    },
    {
      "cell_type": "code",
      "metadata": {
        "id": "Lfyc8xDbM8Wi",
        "colab_type": "code",
        "colab": {
          "base_uri": "https://localhost:8080/",
          "height": 731
        },
        "outputId": "ac53c0b6-0a64-4e34-c613-c6143c9c73fa"
      },
      "source": [
        "# Combine the medical history input x, the symptom x ,\n",
        "# the age x , and the smoking x into one final x array\n",
        "\n",
        "input_x_array = np.hstack((x_hist_text_train , x_symp_text_train))\n",
        "\n",
        "# Sort the sequences \n",
        "input_x_array.sort(axis=1)\n",
        "# Conver to binary values\n",
        "input_x_array[input_x_array != 0] = 1.0\n",
        "input_x_array[input_x_array == 0] = 0.0\n",
        "\n",
        "age_array_2d = np.expand_dims(age_array , axis =1)\n",
        "smoker_array_2d = np.expand_dims(smoker_array , axis=1)\n",
        "\n",
        "input_x_array = np.hstack((input_x_array , age_array_2d , smoker_array_2d))\n",
        "# Use the input_x_array to feed into both deep learning and statistical models.\n",
        "\n",
        "print(input_x_array)"
      ],
      "execution_count": 336,
      "outputs": [
        {
          "output_type": "stream",
          "text": [
            "[[ 0.  0.  0.  0.  0.  0.  0.  1. 32. -1.]\n",
            " [ 0.  0.  0.  0.  1.  1.  1.  1. 31. -1.]\n",
            " [ 0.  0.  0.  0.  0.  0.  0.  1. 21. -1.]\n",
            " [ 0.  0.  0.  1.  1.  1.  1.  1. 33. -1.]\n",
            " [ 0.  0.  0.  0.  0.  0.  1.  1. 27. -1.]\n",
            " [ 0.  0.  0.  0.  0.  0.  0.  1. 22. -1.]\n",
            " [ 0.  0.  0.  0.  0.  0.  0.  0. 51.  0.]\n",
            " [ 0.  0.  0.  0.  0.  0.  1.  1. 24.  0.]\n",
            " [ 0.  0.  0.  0.  0.  0.  1.  1. 17.  0.]\n",
            " [ 0.  0.  0.  0.  0.  0.  1.  1. 55.  0.]\n",
            " [ 0.  0.  0.  0.  0.  0.  1.  1. 23.  0.]\n",
            " [ 0.  0.  0.  0.  0.  0.  1.  1. 48.  0.]\n",
            " [ 0.  0.  0.  0.  0.  0.  0.  1. 25.  0.]\n",
            " [ 0.  0.  0.  0.  0.  0.  1.  1. 47.  0.]\n",
            " [ 0.  0.  0.  0.  0.  1.  1.  1. 26.  0.]\n",
            " [ 0.  0.  0.  0.  1.  1.  1.  1. 17.  0.]\n",
            " [ 0.  0.  0.  0.  0.  1.  1.  1. 54.  0.]\n",
            " [ 0.  0.  0.  0.  0.  0.  0.  1. 21.  0.]\n",
            " [ 0.  0.  1.  1.  1.  1.  1.  1. 57.  0.]\n",
            " [ 0.  0.  0.  0.  0.  0.  0.  1. 22.  0.]\n",
            " [ 0.  0.  0.  0.  0.  0.  1.  1. 24.  0.]\n",
            " [ 0.  0.  0.  0.  0.  1.  1.  1. 40.  0.]\n",
            " [ 0.  0.  0.  0.  0.  0.  0.  1. 30.  0.]\n",
            " [ 0.  0.  0.  0.  0.  0.  0.  0. 44.  1.]\n",
            " [ 0.  0.  0.  1.  1.  1.  1.  1. 38.  1.]\n",
            " [ 0.  0.  0.  0.  0.  0.  0.  1. 20.  0.]\n",
            " [ 0.  0.  0.  0.  1.  1.  1.  1. 20.  0.]\n",
            " [ 0.  0.  0.  0.  0.  0.  0.  1. 20.  0.]\n",
            " [ 0.  0.  0.  0.  0.  0.  0.  1. 30.  0.]\n",
            " [ 0.  0.  0.  0.  0.  1.  1.  1. 23.  1.]\n",
            " [ 0.  0.  0.  0.  0.  0.  1.  1. 37.  0.]\n",
            " [ 0.  0.  0.  0.  1.  1.  1.  1. 24.  0.]\n",
            " [ 0.  0.  0.  0.  0.  0.  0.  1. 66.  0.]\n",
            " [ 0.  0.  0.  0.  0.  0.  0.  1. 46.  0.]\n",
            " [ 0.  0.  1.  1.  1.  1.  1.  1. 53.  0.]\n",
            " [ 0.  0.  0.  0.  0.  0.  0.  0. 43.  0.]\n",
            " [ 0.  0.  0.  0.  0.  0.  1.  1. 29.  0.]\n",
            " [ 0.  0.  0.  0.  0.  0.  0.  0. 40.  0.]\n",
            " [ 0.  0.  0.  1.  1.  1.  1.  1. 47.  0.]\n",
            " [ 0.  1.  1.  1.  1.  1.  1.  1. 18.  0.]\n",
            " [ 0.  0.  0.  1.  1.  1.  1.  1. 67.  0.]\n",
            " [ 0.  0.  0.  0.  0.  0.  1.  1. 36.  0.]]\n"
          ],
          "name": "stdout"
        }
      ]
    },
    {
      "cell_type": "code",
      "metadata": {
        "id": "7XkIBouSezc4",
        "colab_type": "code",
        "colab": {}
      },
      "source": [
        "# Split into train, validate, and test\n",
        "\n",
        "## Question: How should we split the data-sets?\n",
        "\n",
        "\n",
        "def split_data(input_x_array , y_text_array , test_size=0.2 , random_state=1 ):\n",
        "  X_train, X_test, y_train, y_test = train_test_split(input_x_array, y_text_array, test_size=0.2, random_state=1) # What shouldd the X be?\n",
        "\n",
        "  X_train, X_val, y_train, y_val = train_test_split(X_train, y_train, test_size=0.5, random_state=1) # 0.5 x 0.8 = 0.4\n",
        "\n",
        "  y_train = y_train.astype('int')\n",
        "  y_test = y_test.astype('int')\n",
        "  y_val = y_val.astype('int')\n",
        "\n",
        "  return X_train, X_val, y_train, y_val , X_test , y_test\n",
        "\n"
      ],
      "execution_count": 0,
      "outputs": []
    },
    {
      "cell_type": "code",
      "metadata": {
        "id": "FfWSIAusabF5",
        "colab_type": "code",
        "outputId": "c8a98be1-cae2-418a-8a2d-08871ada211b",
        "colab": {
          "base_uri": "https://localhost:8080/",
          "height": 34
        }
      },
      "source": [
        "# Random Forest Classifer\n",
        "\n",
        "def rf_model(x_train , y_train , x_val , y_val , x_test , y_test):\n",
        "  model = rf()\n",
        "  model.fit(x_train , y_train)\n",
        "  \n",
        "  # Evaluate the model\n",
        "\n",
        "\n",
        "  \n",
        "  score = model.score(x_val , y_val)\n",
        "  predictions = model.predict(x_val)\n",
        "  return score , predictions\n",
        "\n",
        "\n",
        "# Perfrom ten times and average the results\n",
        "\n",
        "\n",
        "num_times = 50\n",
        "total_acc = np.zeros(num_times)\n",
        "\n",
        "predictions_rf = []\n",
        "\n",
        "for i in range(0, num_times):\n",
        "  X_train, X_val, y_train, y_val , X_test , y_test = split_data(input_x_array , y_text_array)\n",
        "  acc , predictions_rf = rf_model(X_train , y_train, X_val , y_val , X_test , y_test)\n",
        "  total_acc[i] = acc\n",
        "\n",
        "mean = np.mean(total_acc)\n",
        "\n",
        "print('The mean accuracy after ' , num_times , ' times is '  , mean)\n",
        "\n",
        "\n",
        "\n"
      ],
      "execution_count": 366,
      "outputs": [
        {
          "output_type": "stream",
          "text": [
            "The mean accuracy after  50  times is  0.8211764705882351\n"
          ],
          "name": "stdout"
        }
      ]
    },
    {
      "cell_type": "code",
      "metadata": {
        "id": "AWrDZrNaUOaw",
        "colab_type": "code",
        "colab": {
          "base_uri": "https://localhost:8080/",
          "height": 461
        },
        "outputId": "e8ee81ae-35c2-4469-85d9-5499dbe27f86"
      },
      "source": [
        "# RF Heatmap \n",
        "\n",
        "\n",
        "CM = confusion_matrix(y_val, predictions_rf)\n",
        "\n",
        "\n",
        "\n",
        "df_cm = pd.DataFrame(CM, index = [\"Pos\" , \"Neg\"],\n",
        "                  columns = [\"Pos\" , \"Neg\"])\n",
        "plt.figure(figsize = (10,7))\n",
        "plt.xlabel('Predicted')\n",
        "plt.ylabel('True Values')\n",
        "plt.title('Confusion Matrix for Random Forest Text Classifier')\n",
        "seaborn.heatmap(df_cm, annot=True)\n"
      ],
      "execution_count": 374,
      "outputs": [
        {
          "output_type": "execute_result",
          "data": {
            "text/plain": [
              "<matplotlib.axes._subplots.AxesSubplot at 0x7f60dc7084e0>"
            ]
          },
          "metadata": {
            "tags": []
          },
          "execution_count": 374
        },
        {
          "output_type": "display_data",
          "data": {
            "image/png": "[encoded data removed]",
            "text/plain": [
              "<Figure size 720x504 with 2 Axes>"
            ]
          },
          "metadata": {
            "tags": [],
            "needs_background": "light"
          }
        }
      ]
    },
    {
      "cell_type": "code",
      "metadata": {
        "id": "DZ7xCMb1zmOJ",
        "colab_type": "code",
        "outputId": "31e02482-1003-4942-f0ff-ff745269eccf",
        "colab": {
          "base_uri": "https://localhost:8080/",
          "height": 34
        }
      },
      "source": [
        "#  SVM \n",
        "def svm_model(x_train , y_train , x_test , y_test , kernel , C):\n",
        "  y_train = y_train.astype('int')\n",
        "  y_test = y_test.astype('int')\n",
        "  model = SVC(C=C ,  kernel=kernel)\n",
        "  model.fit(x_train , y_train)\n",
        "  \n",
        "  predictions_svm = model.predict(x_test)\n",
        "  # Evaluate the model\n",
        "  score = score = model.score(x_test , y_test)\n",
        "  return score , predictions_svm\n",
        "\n",
        "\n",
        "num_times = 50\n",
        "total_acc = np.zeros(num_times)\n",
        "predictions_svm = []\n",
        "for i in range(0, num_times):\n",
        "  X_train, X_val, y_train, y_val , X_test , y_test = split_data(input_x_array , y_text_array)\n",
        "  acc , predictions_svm = svm_model(X_train , y_train, X_val , y_val , kernel='rbf' , C=1.0)\n",
        "\n",
        "  total_acc[i] = acc\n",
        "\n",
        "mean = np.mean(total_acc)\n",
        "\n",
        "print('The mean accuracy after ' , num_times , ' times is '  , mean)\n"
      ],
      "execution_count": 372,
      "outputs": [
        {
          "output_type": "stream",
          "text": [
            "The mean accuracy after  50  times is  0.8235294117647056\n"
          ],
          "name": "stdout"
        }
      ]
    },
    {
      "cell_type": "code",
      "metadata": {
        "id": "Gfgzryu0YqmE",
        "colab_type": "code",
        "colab": {
          "base_uri": "https://localhost:8080/",
          "height": 461
        },
        "outputId": "b20826b6-617c-4a66-c046-f96123919259"
      },
      "source": [
        "# SVM Heatmap \n",
        "\n",
        "\n",
        "CM = confusion_matrix(y_val, predictions_svm)\n",
        "\n",
        "\n",
        "\n",
        "df_cm = pd.DataFrame(CM, index = [\"Pos\" , \"Neg\"],\n",
        "                  columns = [\"Pos\" , \"Neg\"])\n",
        "plt.figure(figsize = (10,7))\n",
        "plt.xlabel('Predicted')\n",
        "plt.ylabel('True Values')\n",
        "plt.title('Confusion Matrix for SVM Text Classifier')\n",
        "seaborn.heatmap(df_cm, annot=True)"
      ],
      "execution_count": 376,
      "outputs": [
        {
          "output_type": "execute_result",
          "data": {
            "text/plain": [
              "<matplotlib.axes._subplots.AxesSubplot at 0x7f60e1363f28>"
            ]
          },
          "metadata": {
            "tags": []
          },
          "execution_count": 376
        },
        {
          "output_type": "display_data",
          "data": {
            "image/png": "[encoded data removed]",
            "text/plain": [
              "<Figure size 720x504 with 2 Axes>"
            ]
          },
          "metadata": {
            "tags": [],
            "needs_background": "light"
          }
        }
      ]
    }
  ]
}