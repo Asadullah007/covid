{
  "nbformat": 4,
  "nbformat_minor": 0,
  "metadata": {
    "colab": {
      "name": "data_mapping.ipynb",
      "provenance": [],
      "collapsed_sections": []
    },
    "kernelspec": {
      "name": "python3",
      "display_name": "Python 3"
    },
    "accelerator": "GPU"
  },
  "cells": [
    {
      "cell_type": "code",
      "metadata": {
        "id": "zm_8pDq1O2t0",
        "colab_type": "code",
        "colab": {}
      },
      "source": [
        "import pandas as pd\n",
        "import numpy as np\n",
        "import re\n",
        "from sklearn.ensemble import RandomForestClassifier as rf\n",
        "from sklearn.model_selection import train_test_split"
      ],
      "execution_count": 0,
      "outputs": []
    },
    {
      "cell_type": "code",
      "metadata": {
        "id": "0wEQ2aUuO6yH",
        "colab_type": "code",
        "outputId": "000c3827-23d9-4341-b1ac-218dc6f82d7f",
        "colab": {
          "base_uri": "https://localhost:8080/",
          "height": 252
        }
      },
      "source": [
        "# Import the data files to the local directory\n",
        "\n",
        "!wget --user 'lambda' --password 'W$RCc&cmQ^n!b4k'  'https://detect-now.org/pakistan/url/org/admin_access_data'"
      ],
      "execution_count": 0,
      "outputs": [
        {
          "output_type": "stream",
          "text": [
            "--2020-04-15 07:30:07--  https://detect-now.org/pakistan/url/org/admin_access_data\n",
            "Resolving detect-now.org (detect-now.org)... 52.178.92.96\n",
            "Connecting to detect-now.org (detect-now.org)|52.178.92.96|:443... connected.\n",
            "HTTP request sent, awaiting response... 401 UNAUTHORIZED\n",
            "Authentication selected: Basic realm=\"Login Required\"\n",
            "Reusing existing connection to detect-now.org:443.\n",
            "HTTP request sent, awaiting response... 200 OK\n",
            "Length: 32862 (32K) [application/json]\n",
            "Saving to: ‘admin_access_data.1’\n",
            "\n",
            "\radmin_access_data.1   0%[                    ]       0  --.-KB/s               \radmin_access_data.1 100%[===================>]  32.09K  --.-KB/s    in 0.005s  \n",
            "\n",
            "2020-04-15 07:30:07 (5.81 MB/s) - ‘admin_access_data.1’ saved [32862/32862]\n",
            "\n"
          ],
          "name": "stdout"
        }
      ]
    },
    {
      "cell_type": "code",
      "metadata": {
        "id": "jEl_REz5O6zv",
        "colab_type": "code",
        "outputId": "87e313d7-8625-45b3-d54d-bc790d058898",
        "colab": {
          "base_uri": "https://localhost:8080/",
          "height": 400
        }
      },
      "source": [
        "# Extract the textual information from the .csv to a dataframe\n",
        "\n",
        "df = pd.read_json(r'/content/admin_access_data')\n",
        "df.head()"
      ],
      "execution_count": 0,
      "outputs": [
        {
          "output_type": "execute_result",
          "data": {
            "text/html": [
              "<div>\n",
              "<style scoped>\n",
              "    .dataframe tbody tr th:only-of-type {\n",
              "        vertical-align: middle;\n",
              "    }\n",
              "\n",
              "    .dataframe tbody tr th {\n",
              "        vertical-align: top;\n",
              "    }\n",
              "\n",
              "    .dataframe thead th {\n",
              "        text-align: right;\n",
              "    }\n",
              "</style>\n",
              "<table border=\"1\" class=\"dataframe\">\n",
              "  <thead>\n",
              "    <tr style=\"text-align: right;\">\n",
              "      <th></th>\n",
              "      <th>age</th>\n",
              "      <th>consent</th>\n",
              "      <th>corona_test</th>\n",
              "      <th>cough_filename</th>\n",
              "      <th>gender</th>\n",
              "      <th>medical_history</th>\n",
              "      <th>patientID</th>\n",
              "      <th>patient_id</th>\n",
              "      <th>patient_reported_symptoms</th>\n",
              "      <th>sampleType</th>\n",
              "      <th>data_t</th>\n",
              "      <th>smoker</th>\n",
              "      <th>video_patient_finder_tip_filename</th>\n",
              "      <th>breathe_filename</th>\n",
              "      <th>patient_smartphone_used_for_data_collection</th>\n",
              "    </tr>\n",
              "  </thead>\n",
              "  <tbody>\n",
              "    <tr>\n",
              "      <th>0</th>\n",
              "      <td>41 - 55</td>\n",
              "      <td>yes</td>\n",
              "      <td>Negative</td>\n",
              "      <td>https://detectnowdatalake.blob.core.windows.ne...</td>\n",
              "      <td>male</td>\n",
              "      <td>Diabetes with complications,</td>\n",
              "      <td>DMC-202</td>\n",
              "      <td>637</td>\n",
              "      <td>Fever, chills, or sweating,New or worsening co...</td>\n",
              "      <td>study</td>\n",
              "      <td>NaN</td>\n",
              "      <td>NaN</td>\n",
              "      <td>NaN</td>\n",
              "      <td>NaN</td>\n",
              "      <td>NaN</td>\n",
              "    </tr>\n",
              "    <tr>\n",
              "      <th>1</th>\n",
              "      <td>31 - 40</td>\n",
              "      <td>yes</td>\n",
              "      <td>Not Tested</td>\n",
              "      <td>https://detectnowdatalake.blob.core.windows.ne...</td>\n",
              "      <td>female</td>\n",
              "      <td>Disease or conditions that make it harder to c...</td>\n",
              "      <td>20030511135111357902</td>\n",
              "      <td>648</td>\n",
              "      <td>New or worsening cough,Sore throat,</td>\n",
              "      <td>study</td>\n",
              "      <td>NaN</td>\n",
              "      <td>NaN</td>\n",
              "      <td>NaN</td>\n",
              "      <td>NaN</td>\n",
              "      <td>NaN</td>\n",
              "    </tr>\n",
              "    <tr>\n",
              "      <th>2</th>\n",
              "      <td>31 - 40</td>\n",
              "      <td>yes</td>\n",
              "      <td>Not Tested</td>\n",
              "      <td>https://detectnowdatalake.blob.core.windows.ne...</td>\n",
              "      <td>male</td>\n",
              "      <td></td>\n",
              "      <td>200413111464227</td>\n",
              "      <td>649</td>\n",
              "      <td>Fever, chills, or sweating,</td>\n",
              "      <td>study</td>\n",
              "      <td>NaN</td>\n",
              "      <td>NaN</td>\n",
              "      <td>NaN</td>\n",
              "      <td>NaN</td>\n",
              "      <td>NaN</td>\n",
              "    </tr>\n",
              "    <tr>\n",
              "      <th>3</th>\n",
              "      <td>18 - 30</td>\n",
              "      <td>yes</td>\n",
              "      <td>Not Tested</td>\n",
              "      <td>https://detectnowdatalake.blob.core.windows.ne...</td>\n",
              "      <td>male</td>\n",
              "      <td></td>\n",
              "      <td>200413111464200</td>\n",
              "      <td>650</td>\n",
              "      <td></td>\n",
              "      <td>guest</td>\n",
              "      <td>NaN</td>\n",
              "      <td>NaN</td>\n",
              "      <td>NaN</td>\n",
              "      <td>NaN</td>\n",
              "      <td>NaN</td>\n",
              "    </tr>\n",
              "    <tr>\n",
              "      <th>4</th>\n",
              "      <td>31 - 40</td>\n",
              "      <td>yes</td>\n",
              "      <td>Not Tested</td>\n",
              "      <td>https://detectnowdatalake.blob.core.windows.ne...</td>\n",
              "      <td>male</td>\n",
              "      <td></td>\n",
              "      <td>200413111463989</td>\n",
              "      <td>652</td>\n",
              "      <td>New or worsening cough,Loss of taste,Loss of s...</td>\n",
              "      <td>study</td>\n",
              "      <td>NaN</td>\n",
              "      <td>NaN</td>\n",
              "      <td>NaN</td>\n",
              "      <td>NaN</td>\n",
              "      <td>NaN</td>\n",
              "    </tr>\n",
              "  </tbody>\n",
              "</table>\n",
              "</div>"
            ],
            "text/plain": [
              "       age consent  ... breathe_filename patient_smartphone_used_for_data_collection\n",
              "0  41 - 55     yes  ...              NaN                                         NaN\n",
              "1  31 - 40     yes  ...              NaN                                         NaN\n",
              "2  31 - 40     yes  ...              NaN                                         NaN\n",
              "3  18 - 30     yes  ...              NaN                                         NaN\n",
              "4  31 - 40     yes  ...              NaN                                         NaN\n",
              "\n",
              "[5 rows x 15 columns]"
            ]
          },
          "metadata": {
            "tags": []
          },
          "execution_count": 119
        }
      ]
    },
    {
      "cell_type": "code",
      "metadata": {
        "id": "J2Yx4bU3O631",
        "colab_type": "code",
        "colab": {}
      },
      "source": [
        "# For downloading CSV file\n",
        "\n",
        "df.to_csv (r'Dow_data_day3.csv', index = None)"
      ],
      "execution_count": 0,
      "outputs": []
    },
    {
      "cell_type": "markdown",
      "metadata": {
        "id": "97Jjtbj1D4I0",
        "colab_type": "text"
      },
      "source": [
        "**Mapping the labels and getting actual DataFrame.**"
      ]
    },
    {
      "cell_type": "code",
      "metadata": {
        "id": "MbcHmkHeQjuC",
        "colab_type": "code",
        "colab": {}
      },
      "source": [
        "# first upload the downloaded CSVs i.e. collected data and test results into correct format\n",
        "# 2nd match the correct labels with the patientIDs\n",
        "\n",
        "# For matching the patient IDs\n",
        "\n",
        "import pandas as pd\n",
        "\n",
        "ss = []\n",
        "gg = []\n",
        "matched_ids = []\n",
        "df1 = pd.read_csv(\"COVID-19-labels.csv\")\n",
        "df2 = pd.read_csv(\"Dow_data_day22.csv\")\n",
        "df2 = df2.drop(columns=[\"age\", \"consent\", \"filename\" , \"data_t\", \"video_patient_finder_tip_filename\",\"patient_id\", \"sampleType\", \"corona_test\"])\n",
        "\n",
        "# For adding these columns into df2 dataframe.\n",
        "df2[\"age\"] = df1[\"AGE\"]\n",
        "df2[\"results\"] = df1[\"COV2_PCR_Result\"]\n",
        "\n",
        "# df2[\"results\"] = df1[\"CoV2-PCR Result\"] \n",
        "# df1['MR No'] = df1[\"MR No\"].astype(str)\n",
        "# df2['patientID'] = df2[\"patientID\"].astype(str)\n",
        "# merged = df1.merge(df2, left_on = \"MR No\", right_on = \"patientID\", how = \"outer\")\n",
        "# # merged = pd.concat([df1, df2])\n",
        "# merged.to_csv(\"output.csv\", index=False)\n",
        "for id in df1[\"MR_No\"]:\n",
        "    ss.append(id)\n",
        "#     if id in df2[\"patientID\"]:\n",
        "#         print(\"MATCHED\")\n",
        "#     else:\n",
        "#         print(\"NOT MATCHED\")\n",
        "\n",
        "for id in df2['patientID']:\n",
        "    gg.append(id)\n",
        "\n",
        "for i in ss:\n",
        "    if i in gg:\n",
        "        matched_ids.append(i)"
      ],
      "execution_count": 0,
      "outputs": []
    },
    {
      "cell_type": "code",
      "metadata": {
        "id": "8oNjcx4ZO67e",
        "colab_type": "code",
        "outputId": "7f1a00da-582d-44fc-e335-48ba1d17789e",
        "colab": {
          "base_uri": "https://localhost:8080/",
          "height": 134
        }
      },
      "source": [
        "matched_ids"
      ],
      "execution_count": 0,
      "outputs": [
        {
          "output_type": "execute_result",
          "data": {
            "text/plain": [
              "[200413111463989.0,\n",
              " 200413111464405.0,\n",
              " 200413111464303.0,\n",
              " 200413111464227.0,\n",
              " 200413111464350.0,\n",
              " 200413111464362.0,\n",
              " 200413111464251.0]"
            ]
          },
          "metadata": {
            "tags": []
          },
          "execution_count": 6
        }
      ]
    },
    {
      "cell_type": "code",
      "metadata": {
        "id": "gQRzqnHhO6_O",
        "colab_type": "code",
        "colab": {}
      },
      "source": [
        "# For appending matched columns into new DataFrame\n",
        "df3 = pd.DataFrame()\n",
        "for i in matched_ids:\n",
        "  hh = df2[df2[\"patientID\"] == i]\n",
        "  df3 = df3.append(hh)"
      ],
      "execution_count": 0,
      "outputs": []
    },
    {
      "cell_type": "code",
      "metadata": {
        "id": "YsIQwmJxO7ED",
        "colab_type": "code",
        "outputId": "db8d3863-83e4-46c5-c6cb-6a73578521ee",
        "colab": {
          "base_uri": "https://localhost:8080/",
          "height": 254
        }
      },
      "source": [
        "# so this is data frame which is containing actual results.\n",
        "df3.head(9)"
      ],
      "execution_count": 0,
      "outputs": [
        {
          "output_type": "execute_result",
          "data": {
            "text/html": [
              "<div>\n",
              "<style scoped>\n",
              "    .dataframe tbody tr th:only-of-type {\n",
              "        vertical-align: middle;\n",
              "    }\n",
              "\n",
              "    .dataframe tbody tr th {\n",
              "        vertical-align: top;\n",
              "    }\n",
              "\n",
              "    .dataframe thead th {\n",
              "        text-align: right;\n",
              "    }\n",
              "</style>\n",
              "<table border=\"1\" class=\"dataframe\">\n",
              "  <thead>\n",
              "    <tr style=\"text-align: right;\">\n",
              "      <th></th>\n",
              "      <th>gender</th>\n",
              "      <th>medical_history</th>\n",
              "      <th>patientID</th>\n",
              "      <th>patient_reported_symptoms</th>\n",
              "      <th>smoker</th>\n",
              "      <th>age</th>\n",
              "      <th>results</th>\n",
              "    </tr>\n",
              "  </thead>\n",
              "  <tbody>\n",
              "    <tr>\n",
              "      <th>4</th>\n",
              "      <td>male</td>\n",
              "      <td>NaN</td>\n",
              "      <td>2.004131e+14</td>\n",
              "      <td>New or worsening cough,Loss of taste,Loss of s...</td>\n",
              "      <td>NaN</td>\n",
              "      <td>67</td>\n",
              "      <td>DETECTED</td>\n",
              "    </tr>\n",
              "    <tr>\n",
              "      <th>14</th>\n",
              "      <td>female</td>\n",
              "      <td>Diabetes with complications,</td>\n",
              "      <td>2.004131e+14</td>\n",
              "      <td>NaN</td>\n",
              "      <td>NaN</td>\n",
              "      <td>39</td>\n",
              "      <td>NOT DETECTED</td>\n",
              "    </tr>\n",
              "    <tr>\n",
              "      <th>6</th>\n",
              "      <td>female</td>\n",
              "      <td>NaN</td>\n",
              "      <td>2.004131e+14</td>\n",
              "      <td>New or worsening cough,</td>\n",
              "      <td>NaN</td>\n",
              "      <td>2</td>\n",
              "      <td>DETECTED</td>\n",
              "    </tr>\n",
              "    <tr>\n",
              "      <th>2</th>\n",
              "      <td>male</td>\n",
              "      <td>NaN</td>\n",
              "      <td>2.004131e+14</td>\n",
              "      <td>Fever, chills, or sweating,</td>\n",
              "      <td>NaN</td>\n",
              "      <td>45</td>\n",
              "      <td>NOT DETECTED</td>\n",
              "    </tr>\n",
              "    <tr>\n",
              "      <th>5</th>\n",
              "      <td>male</td>\n",
              "      <td>NaN</td>\n",
              "      <td>2.004131e+14</td>\n",
              "      <td>Fever, chills, or sweating,Shortness of breath...</td>\n",
              "      <td>NaN</td>\n",
              "      <td>8</td>\n",
              "      <td>NOT DETECTED</td>\n",
              "    </tr>\n",
              "    <tr>\n",
              "      <th>12</th>\n",
              "      <td>male</td>\n",
              "      <td>Disease or conditions that make it harder to c...</td>\n",
              "      <td>2.004131e+14</td>\n",
              "      <td>New or worsening cough,</td>\n",
              "      <td>NaN</td>\n",
              "      <td>1</td>\n",
              "      <td>NOT DETECTED</td>\n",
              "    </tr>\n",
              "    <tr>\n",
              "      <th>7</th>\n",
              "      <td>male</td>\n",
              "      <td>Asthma or chronic lung disease,</td>\n",
              "      <td>2.004131e+14</td>\n",
              "      <td>Fever, chills, or sweating,Shortness of breath...</td>\n",
              "      <td>NaN</td>\n",
              "      <td>41</td>\n",
              "      <td>NOT DETECTED</td>\n",
              "    </tr>\n",
              "  </tbody>\n",
              "</table>\n",
              "</div>"
            ],
            "text/plain": [
              "    gender                                    medical_history  ...  age       results\n",
              "4     male                                                NaN  ...   67      DETECTED\n",
              "14  female                       Diabetes with complications,  ...   39  NOT DETECTED\n",
              "6   female                                                NaN  ...    2      DETECTED\n",
              "2     male                                                NaN  ...   45  NOT DETECTED\n",
              "5     male                                                NaN  ...    8  NOT DETECTED\n",
              "12    male  Disease or conditions that make it harder to c...  ...    1  NOT DETECTED\n",
              "7     male                    Asthma or chronic lung disease,  ...   41  NOT DETECTED\n",
              "\n",
              "[7 rows x 7 columns]"
            ]
          },
          "metadata": {
            "tags": []
          },
          "execution_count": 8
        }
      ]
    },
    {
      "cell_type": "code",
      "metadata": {
        "id": "6SNVd39qO7II",
        "colab_type": "code",
        "colab": {}
      },
      "source": [
        ""
      ],
      "execution_count": 0,
      "outputs": []
    },
    {
      "cell_type": "code",
      "metadata": {
        "id": "LbywHOxPO7KW",
        "colab_type": "code",
        "colab": {}
      },
      "source": [
        ""
      ],
      "execution_count": 0,
      "outputs": []
    },
    {
      "cell_type": "code",
      "metadata": {
        "id": "RSvCFlctO7PY",
        "colab_type": "code",
        "colab": {}
      },
      "source": [
        ""
      ],
      "execution_count": 0,
      "outputs": []
    },
    {
      "cell_type": "code",
      "metadata": {
        "id": "9qzEI4ivO7My",
        "colab_type": "code",
        "colab": {}
      },
      "source": [
        ""
      ],
      "execution_count": 0,
      "outputs": []
    },
    {
      "cell_type": "code",
      "metadata": {
        "id": "cJUgSkyKO7DB",
        "colab_type": "code",
        "colab": {}
      },
      "source": [
        ""
      ],
      "execution_count": 0,
      "outputs": []
    },
    {
      "cell_type": "code",
      "metadata": {
        "id": "-2rr5B-vO66X",
        "colab_type": "code",
        "colab": {}
      },
      "source": [
        ""
      ],
      "execution_count": 0,
      "outputs": []
    },
    {
      "cell_type": "code",
      "metadata": {
        "id": "xlRkqVUcO62i",
        "colab_type": "code",
        "colab": {}
      },
      "source": [
        ""
      ],
      "execution_count": 0,
      "outputs": []
    }
  ]
}