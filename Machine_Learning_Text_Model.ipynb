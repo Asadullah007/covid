{
  "nbformat": 4,
  "nbformat_minor": 0,
  "metadata": {
    "colab": {
      "name": "Machine_Learning_Text_Model.ipynb",
      "provenance": []
    },
    "kernelspec": {
      "name": "python3",
      "display_name": "Python 3"
    }
  },
  "cells": [
    {
      "cell_type": "code",
      "metadata": {
        "id": "7PnU1260K4ou",
        "colab_type": "code",
        "colab": {}
      },
      "source": [
        "# Imports\n",
        "\n",
        "import pandas as pd\n",
        "import numpy as np\n",
        "import re\n",
        "from sklearn.ensemble import RandomForestClassifier as rf\n",
        "from sklearn.model_selection import train_test_split\n"
      ],
      "execution_count": 0,
      "outputs": []
    },
    {
      "cell_type": "code",
      "metadata": {
        "id": "Xc1b6hkvI0uc",
        "colab_type": "code",
        "outputId": "79089aae-ea27-4446-93fa-dc89982c02c7",
        "colab": {
          "base_uri": "https://localhost:8080/",
          "height": 68
        }
      },
      "source": [
        "# Import the data files to the local directory\n",
        "\n",
        "\n",
        "!wget <LINK> -O temp.zip; unzip temp.zip; rm temp.zip\n"
      ],
      "execution_count": 29,
      "outputs": [
        {
          "output_type": "stream",
          "text": [
            "/bin/bash: LINK: No such file or directory\n",
            "unzip:  cannot find or open temp.zip, temp.zip.zip or temp.zip.ZIP.\n",
            "rm: cannot remove 'temp.zip': No such file or directory\n"
          ],
          "name": "stdout"
        }
      ]
    },
    {
      "cell_type": "code",
      "metadata": {
        "id": "9Tn2pHaUKtAT",
        "colab_type": "code",
        "outputId": "98862f5b-131d-4582-9098-896c76755cef",
        "colab": {
          "base_uri": "https://localhost:8080/",
          "height": 289
        }
      },
      "source": [
        "# Extract the textual information from the .csv to a dataframe\n",
        "\n",
        "df = pd.read_csv(r'/content/DetectNow/1586829496995_68613e22-7df3-11ea-8ed6-062008888c7e/export.csv')\n",
        "df.head()"
      ],
      "execution_count": 0,
      "outputs": [
        {
          "output_type": "execute_result",
          "data": {
            "text/html": [
              "<div>\n",
              "<style scoped>\n",
              "    .dataframe tbody tr th:only-of-type {\n",
              "        vertical-align: middle;\n",
              "    }\n",
              "\n",
              "    .dataframe tbody tr th {\n",
              "        vertical-align: top;\n",
              "    }\n",
              "\n",
              "    .dataframe thead th {\n",
              "        text-align: right;\n",
              "    }\n",
              "</style>\n",
              "<table border=\"1\" class=\"dataframe\">\n",
              "  <thead>\n",
              "    <tr style=\"text-align: right;\">\n",
              "      <th></th>\n",
              "      <th>age</th>\n",
              "      <th>consent</th>\n",
              "      <th>corona_test</th>\n",
              "      <th>filename</th>\n",
              "      <th>gender</th>\n",
              "      <th>medical_history</th>\n",
              "      <th>patientID</th>\n",
              "      <th>patient_id</th>\n",
              "      <th>patient_reported_symptoms</th>\n",
              "      <th>sampleType</th>\n",
              "      <th>data_t</th>\n",
              "      <th>smoker</th>\n",
              "      <th>video_patient_finder_tip_filename</th>\n",
              "    </tr>\n",
              "  </thead>\n",
              "  <tbody>\n",
              "    <tr>\n",
              "      <th>0</th>\n",
              "      <td>41 - 55</td>\n",
              "      <td>yes</td>\n",
              "      <td>Negative</td>\n",
              "      <td>https://detectnowdatalake.blob.core.windows.ne...</td>\n",
              "      <td>male</td>\n",
              "      <td>Diabetes with complications,</td>\n",
              "      <td>DMC-202</td>\n",
              "      <td>637</td>\n",
              "      <td>Fever, chills, or sweating,New or worsening co...</td>\n",
              "      <td>study</td>\n",
              "      <td>NaN</td>\n",
              "      <td>NaN</td>\n",
              "      <td>NaN</td>\n",
              "    </tr>\n",
              "    <tr>\n",
              "      <th>1</th>\n",
              "      <td>31 - 40</td>\n",
              "      <td>yes</td>\n",
              "      <td>Not Tested</td>\n",
              "      <td>https://detectnowdatalake.blob.core.windows.ne...</td>\n",
              "      <td>female</td>\n",
              "      <td>Disease or conditions that make it harder to c...</td>\n",
              "      <td>20030511135111357902</td>\n",
              "      <td>648</td>\n",
              "      <td>New or worsening cough,Sore throat,</td>\n",
              "      <td>study</td>\n",
              "      <td>NaN</td>\n",
              "      <td>NaN</td>\n",
              "      <td>NaN</td>\n",
              "    </tr>\n",
              "    <tr>\n",
              "      <th>2</th>\n",
              "      <td>31 - 40</td>\n",
              "      <td>yes</td>\n",
              "      <td>Not Tested</td>\n",
              "      <td>https://detectnowdatalake.blob.core.windows.ne...</td>\n",
              "      <td>male</td>\n",
              "      <td>NaN</td>\n",
              "      <td>200413111464227</td>\n",
              "      <td>649</td>\n",
              "      <td>Fever, chills, or sweating,</td>\n",
              "      <td>study</td>\n",
              "      <td>NaN</td>\n",
              "      <td>NaN</td>\n",
              "      <td>NaN</td>\n",
              "    </tr>\n",
              "    <tr>\n",
              "      <th>3</th>\n",
              "      <td>18 - 30</td>\n",
              "      <td>yes</td>\n",
              "      <td>Not Tested</td>\n",
              "      <td>https://detectnowdatalake.blob.core.windows.ne...</td>\n",
              "      <td>male</td>\n",
              "      <td>NaN</td>\n",
              "      <td>200413111464200</td>\n",
              "      <td>650</td>\n",
              "      <td>NaN</td>\n",
              "      <td>guest</td>\n",
              "      <td>NaN</td>\n",
              "      <td>NaN</td>\n",
              "      <td>NaN</td>\n",
              "    </tr>\n",
              "    <tr>\n",
              "      <th>4</th>\n",
              "      <td>31 - 40</td>\n",
              "      <td>yes</td>\n",
              "      <td>Not Tested</td>\n",
              "      <td>https://detectnowdatalake.blob.core.windows.ne...</td>\n",
              "      <td>male</td>\n",
              "      <td>NaN</td>\n",
              "      <td>200413111463989</td>\n",
              "      <td>652</td>\n",
              "      <td>New or worsening cough,Loss of taste,Loss of s...</td>\n",
              "      <td>study</td>\n",
              "      <td>NaN</td>\n",
              "      <td>NaN</td>\n",
              "      <td>NaN</td>\n",
              "    </tr>\n",
              "  </tbody>\n",
              "</table>\n",
              "</div>"
            ],
            "text/plain": [
              "       age consent corona_test  ... data_t smoker video_patient_finder_tip_filename\n",
              "0  41 - 55     yes    Negative  ...    NaN    NaN                               NaN\n",
              "1  31 - 40     yes  Not Tested  ...    NaN    NaN                               NaN\n",
              "2  31 - 40     yes  Not Tested  ...    NaN    NaN                               NaN\n",
              "3  18 - 30     yes  Not Tested  ...    NaN    NaN                               NaN\n",
              "4  31 - 40     yes  Not Tested  ...    NaN    NaN                               NaN\n",
              "\n",
              "[5 rows x 13 columns]"
            ]
          },
          "metadata": {
            "tags": []
          },
          "execution_count": 7
        }
      ]
    },
    {
      "cell_type": "code",
      "metadata": {
        "id": "5o0cYQj6LS7V",
        "colab_type": "code",
        "outputId": "88175b7c-8d70-4c03-8f51-ce931e18a910",
        "colab": {
          "base_uri": "https://localhost:8080/",
          "height": 34
        }
      },
      "source": [
        "# Extract Medical History and convert to dictionary with numbers\n",
        "\n",
        "med_history_array = np.asarray(df['medical_history'])\n",
        "\n",
        "\n",
        "\n",
        "med_history_array = str(med_history_array)\n",
        "\n",
        "\n",
        "## Parse the med_history_array and find unique comma seperated strings \n",
        "\n",
        "med_history_dict = {}\n",
        "index = 0\n",
        "\n",
        "for entry in med_history_array.splitlines():\n",
        "    history_list = entry.split(\",\")\n",
        "    for hist in history_list:\n",
        "      hist = hist.replace('\\'' , '')\n",
        "      hist = hist.replace('[' , '')\n",
        "      hist = hist.replace(']' , '')\n",
        "      hist = hist.strip()\n",
        "      if hist not in med_history_dict and 'nan' not in hist and hist is not '':    \n",
        "        med_history_dict[hist] = index       \n",
        "        index += 1\n",
        "\n",
        "\n",
        "print(\"The dictionary with numbers: \", med_history_dict)\n"
      ],
      "execution_count": 0,
      "outputs": [
        {
          "output_type": "stream",
          "text": [
            "The dictionary with numbers:  {'Diabetes with complications': 0, 'Disease or conditions that make it harder to cough': 1, 'Asthma or chronic lung disease': 2, 'Congestive heart failure': 3, 'None': 4, 'Extreme obesity': 5}\n"
          ],
          "name": "stdout"
        }
      ]
    },
    {
      "cell_type": "code",
      "metadata": {
        "id": "BIO-NOHWRwAV",
        "colab_type": "code",
        "outputId": "96de74a3-3f3d-4819-affb-4387ada84736",
        "colab": {
          "base_uri": "https://localhost:8080/",
          "height": 34
        }
      },
      "source": [
        "# Assign the patients numerical history combination to an array\n",
        "\n",
        "x_hist_text_train = np.zeros(len(df['medical_history']))\n",
        "\n",
        "index = 0\n",
        "\n",
        "for entry in df['medical_history']:\n",
        "  if type(entry) is not float:\n",
        "    num_seq = ''\n",
        "  \n",
        "    for string in entry.split(\",\"):\n",
        "      if string is not '':\n",
        "        num_seq += str(med_history_dict[string])\n",
        "\n",
        "\n",
        "    x_hist_text_train[index] = float(num_seq)\n",
        "    \n",
        "  else: \n",
        "    x_hist_text_train[index] = -1.0\n",
        "  index += 1\n",
        "\n",
        "\n",
        "print('The shape of the x_text_train is ' , x_hist_text_train.shape)\n"
      ],
      "execution_count": 0,
      "outputs": [
        {
          "output_type": "stream",
          "text": [
            "The shape of the x_text_train is  (37,)\n"
          ],
          "name": "stdout"
        }
      ]
    },
    {
      "cell_type": "code",
      "metadata": {
        "id": "0l5jU_sChzSC",
        "colab_type": "code",
        "outputId": "af335e23-7d1a-49cb-ef54-6d62441429f5",
        "colab": {
          "base_uri": "https://localhost:8080/",
          "height": 34
        }
      },
      "source": [
        "# Extract patient reported symptoms and convert to dictionary with numbers \n",
        "\n",
        "symptom_array = np.asarray(df['patient_reported_symptoms'])\n",
        "\n",
        "symptom_array = str(symptom_array)\n",
        "\n",
        "\n",
        "## Parse the med_history_array and find unique comma seperated strings \n",
        "\n",
        "symptom_dict = {}\n",
        "index = 0\n",
        "\n",
        "for entry in symptom_array.splitlines():\n",
        "    split_entry = re.findall('[A-Z][^A-Z]*', entry)\n",
        "    for symptom in split_entry:\n",
        "      symptom = symptom.strip().replace(',' , '')\n",
        "      symptom = symptom.strip().replace('\\'' , '')\n",
        "      symptom = symptom.replace('nan' , '').strip()\n",
        "      symptom = symptom.replace(']' , '')\n",
        "      if symptom not in symptom_dict:\n",
        "        symptom_dict[symptom] = index\n",
        "        index += 1\n",
        "\n",
        "print(\"The dictionary with numbers: \", symptom_dict)\n"
      ],
      "execution_count": 0,
      "outputs": [
        {
          "output_type": "stream",
          "text": [
            "The dictionary with numbers:  {'Fever chills or sweating': 0, 'New or worsening cough': 1, 'Sore throat': 2, 'Loss of taste': 3, 'Loss of smell': 4, 'Shortness of breath': 5, 'Body aches': 6}\n"
          ],
          "name": "stdout"
        }
      ]
    },
    {
      "cell_type": "code",
      "metadata": {
        "id": "jg4wy2FsnATn",
        "colab_type": "code",
        "outputId": "2078a70a-6a11-40a8-806e-15761220dffc",
        "colab": {
          "base_uri": "https://localhost:8080/",
          "height": 34
        }
      },
      "source": [
        "# Assign the patients numerical symptom combination to an array\n",
        "\n",
        "x_symp_text_train = np.zeros(len(df['medical_history']))\n",
        "\n",
        "index = 0\n",
        "\n",
        "for entry in df['patient_reported_symptoms']:\n",
        "  if type(entry) is not float:\n",
        "    num_seq = ''\n",
        "    split_entry = re.findall('[A-Z][^A-Z]*', entry)\n",
        "\n",
        "    for symptom in split_entry:\n",
        "        symptom = symptom.strip().replace(',' , '')\n",
        "        symptom = symptom.strip().replace('\\'' , '')\n",
        "        symptom = symptom.replace('nan' , '').strip()\n",
        "        symptom = symptom.replace(']' , '')\n",
        "\n",
        "        num_seq += str(symptom_dict[symptom])\n",
        "    x_symp_text_train[index] = float(num_seq)\n",
        "      \n",
        "    \n",
        "  else: \n",
        "    x_hist_text_train[index] = -1.0\n",
        "  index += 1\n",
        "\n",
        "\n",
        "print('The shape of the x_text_train is ' , x_symp_text_train.shape)\n"
      ],
      "execution_count": 0,
      "outputs": [
        {
          "output_type": "stream",
          "text": [
            "The shape of the x_text_train is  (37,)\n"
          ],
          "name": "stdout"
        }
      ]
    },
    {
      "cell_type": "code",
      "metadata": {
        "id": "ZoMt2OpUS-8G",
        "colab_type": "code",
        "colab": {}
      },
      "source": [
        "# Convert the y strings to digits\n",
        "\n",
        "df.loc[df['corona_test'] == 'Negative', 'corona_test'] = 0\n",
        "df.loc[df['corona_test'] == 'Positive', 'corona_test'] = 1\n",
        "df.loc[df['corona_test'] == 'Not Tested', 'corona_test'] = -1\n",
        "\n",
        "y_text_array = np.asarray(df['corona_test'])\n",
        "\n",
        "\n"
      ],
      "execution_count": 0,
      "outputs": []
    },
    {
      "cell_type": "code",
      "metadata": {
        "id": "0PR9NmKPo7sc",
        "colab_type": "code",
        "outputId": "2eabf550-dfc1-4561-bf6b-e2c5894f3e94",
        "colab": {
          "base_uri": "https://localhost:8080/",
          "height": 187
        }
      },
      "source": [
        "print('The x medical history sequence array is: ' , x_hist_text_train)\n",
        "print('The x symptoms sequence array is: ' , x_symp_text_train)\n",
        "print('The shape of the y_text_train is ' , y_text_array.shape)\n",
        "\n"
      ],
      "execution_count": 24,
      "outputs": [
        {
          "output_type": "stream",
          "text": [
            "The x medical history sequence array is:  [ 0.  1. -1. -1. -1. -1. -1.  2. -1. -1. -1.  1.  1.  1. -1.  3. -1. -1.\n",
            "  1. -1. -1.  2. -1. -1. -1. -1.  2. -1. -1. -1. -1. 23. -1. -1.  2.  4.\n",
            "  5.]\n",
            "The x symptoms sequence array is:  [1.000e+00 1.200e+01 0.000e+00 0.000e+00 1.340e+02 5.340e+02 1.000e+00\n",
            " 5.134e+03 0.000e+00 1.000e+00 5.100e+01 2.000e+00 1.000e+00 1.000e+00\n",
            " 0.000e+00 1.260e+02 0.000e+00 0.000e+00 5.160e+02 0.000e+00 0.000e+00\n",
            " 5.100e+01 1.200e+01 5.100e+01 0.000e+00 5.000e+00 2.600e+01 5.100e+01\n",
            " 1.200e+01 2.000e+00 5.120e+02 5.000e+00 5.263e+03 0.000e+00 5.000e+00\n",
            " 5.000e+00 0.000e+00]\n",
            "The shape of the y_text_train is  (37,)\n"
          ],
          "name": "stdout"
        }
      ]
    },
    {
      "cell_type": "code",
      "metadata": {
        "id": "7XkIBouSezc4",
        "colab_type": "code",
        "colab": {}
      },
      "source": [
        "# Split into train, validate, and test\n",
        "\n",
        "## Question: How should we split the data-sets?\n",
        "\n",
        "\n",
        "X_train, X_test, y_train, y_test = train_test_split(x_hist_text_train, y_text_array, test_size=0.2, random_state=1) # What shouldd the X be?\n",
        "\n",
        "X_train, X_val, y_train, y_val = train_test_split(X_train, y_train, test_size=0.25, random_state=1) # 0.25 x 0.8 = 0.2\n",
        "\n",
        "## Another question: How should we combine the medical history and the symptoms?"
      ],
      "execution_count": 0,
      "outputs": []
    },
    {
      "cell_type": "code",
      "metadata": {
        "id": "FfWSIAusabF5",
        "colab_type": "code",
        "colab": {}
      },
      "source": [
        "# Random Forest Classifer\n",
        "\n",
        "def rf_model(x_train , y_train , num_branches):\n",
        "\n",
        "  model = rf()\n",
        "  model.fit(x_train , y_train)\n",
        "  \n",
        "  # Evaluate the model\n",
        "  \n"
      ],
      "execution_count": 0,
      "outputs": []
    },
    {
      "cell_type": "code",
      "metadata": {
        "id": "DZ7xCMb1zmOJ",
        "colab_type": "code",
        "colab": {}
      },
      "source": [
        "#  - SVM "
      ],
      "execution_count": 0,
      "outputs": []
    },
    {
      "cell_type": "code",
      "metadata": {
        "id": "p1w3VpSVzvEh",
        "colab_type": "code",
        "colab": {}
      },
      "source": [
        "# - Decision Tree"
      ],
      "execution_count": 0,
      "outputs": []
    },
    {
      "cell_type": "code",
      "metadata": {
        "id": "pQEvkP1oUKhB",
        "colab_type": "code",
        "colab": {}
      },
      "source": [
        "# TODO: Build more complex models\n",
        "\n",
        "# - Deep Learning Model ???\n",
        "# Things to try\n",
        "\n",
        "# - Fully connected NN\n",
        "# - K means clustering on the digit vectors from the text\n"
      ],
      "execution_count": 0,
      "outputs": []
    }
  ]
}