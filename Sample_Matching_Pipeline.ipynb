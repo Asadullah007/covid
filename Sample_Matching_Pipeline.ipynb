{
  "nbformat": 4,
  "nbformat_minor": 0,
  "metadata": {
    "colab": {
      "name": "Sample-Matching-Pipeline.ipynb",
      "provenance": [],
      "collapsed_sections": []
    },
    "kernelspec": {
      "name": "python3",
      "display_name": "Python 3"
    }
  },
  "cells": [
    {
      "cell_type": "code",
      "metadata": {
        "id": "nnn1StEPAiKH",
        "colab_type": "code",
        "colab": {}
      },
      "source": [
        "# Imports\n",
        "\n",
        "import pandas as pd\n",
        "import os\n",
        "import numpy as np\n",
        "\n"
      ],
      "execution_count": 0,
      "outputs": []
    },
    {
      "cell_type": "code",
      "metadata": {
        "id": "XFrlO2eM9I-G",
        "colab_type": "code",
        "colab": {}
      },
      "source": [
        "# Retrieve the CONFIDENTIAL patient dataset with test results\n",
        "\n",
        "# You must mount your drive if you have access to the ***CONFIDENTIAL PATIENT TEST RESULTS***\n",
        "test_result_array = []\n",
        "test_results_path = \"./drive/My Drive/patient-test-results\"\n",
        "\n",
        "for dirpath, dnames, fnames in os.walk(test_results_path):\n",
        "    for f in fnames:\n",
        "        if f.endswith(\".csv\"):\n",
        "            file_path = os.path.join(test_results_path, f)\n",
        "            test_result_array += [pd.read_csv(file_path)]\n",
        "   \n",
        "\n",
        "\n"
      ],
      "execution_count": 0,
      "outputs": []
    },
    {
      "cell_type": "code",
      "metadata": {
        "id": "ULdlNGnrJ7RP",
        "colab_type": "code",
        "colab": {}
      },
      "source": [
        "# Read the Patient Raw Data \n",
        "\n",
        "# Retrieve the JSON\n",
        "!wget --user <USER> --password <PASSWORD>  <URL>\n",
        "\n"
      ],
      "execution_count": 0,
      "outputs": []
    },
    {
      "cell_type": "code",
      "metadata": {
        "id": "D-epXEfuL3z5",
        "colab_type": "code",
        "colab": {}
      },
      "source": [
        "# Convert to a df\n",
        "\n",
        "raw_df = pd.read_json(r'/content/admin_access_data')\n",
        "raw_df.head()"
      ],
      "execution_count": 0,
      "outputs": []
    },
    {
      "cell_type": "code",
      "metadata": {
        "id": "V5i8rK4R9OMQ",
        "colab_type": "code",
        "colab": {}
      },
      "source": [
        "first_df = test_result_array[1]\n",
        "first_df.head()"
      ],
      "execution_count": 0,
      "outputs": []
    },
    {
      "cell_type": "code",
      "metadata": {
        "id": "nHJmBtsgIG2Q",
        "colab_type": "code",
        "outputId": "d63e06e0-0c9a-40cf-ced2-6baa66c94561",
        "colab": {
          "base_uri": "https://localhost:8080/",
          "height": 122
        }
      },
      "source": [
        "# Code to count the number of matches!\n",
        "\n",
        "counter = 0\n",
        "\n",
        "for patient_id in raw_df['patientID']:\n",
        "  counter_1 = 0\n",
        "  for patient_id_2 in first_df['COVID DATA 14/04/2020']:\n",
        "    patient_id = str(patient_id).replace('-' , '')\n",
        "    patient_id_2 = str(patient_id_2).replace('-' , '')\n",
        "\n",
        "   \n",
        "    if patient_id == patient_id_2:\n",
        "      raw_df['corona_test'][counter] = first_df['Unnamed: 7'][counter_1]\n",
        "    counter_1 += 1\n",
        "  counter += 1\n",
        "\n",
        "\n"
      ],
      "execution_count": 0,
      "outputs": [
        {
          "output_type": "stream",
          "text": [
            "/usr/local/lib/python3.6/dist-packages/ipykernel_launcher.py:12: SettingWithCopyWarning: \n",
            "A value is trying to be set on a copy of a slice from a DataFrame\n",
            "\n",
            "See the caveats in the documentation: https://pandas.pydata.org/pandas-docs/stable/user_guide/indexing.html#returning-a-view-versus-a-copy\n",
            "  if sys.path[0] == '':\n"
          ],
          "name": "stderr"
        }
      ]
    },
    {
      "cell_type": "code",
      "metadata": {
        "id": "7jxsv0NxDZgD",
        "colab_type": "code",
        "colab": {}
      },
      "source": [
        "# Store as a .csv\n",
        "\n",
        "raw_df.to_csv('output-04-15-2020-1.csv')"
      ],
      "execution_count": 0,
      "outputs": []
    }
  ]
}