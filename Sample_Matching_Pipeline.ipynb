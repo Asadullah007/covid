{
  "nbformat": 4,
  "nbformat_minor": 0,
  "metadata": {
    "colab": {
      "name": "Sample_Matching_Pipeline.ipynb",
      "provenance": [],
      "collapsed_sections": []
    },
    "kernelspec": {
      "name": "python3",
      "display_name": "Python 3"
    }
  },
  "cells": [
    {
      "cell_type": "code",
      "metadata": {
        "id": "nnn1StEPAiKH",
        "colab_type": "code",
        "colab": {
          "base_uri": "https://localhost:8080/",
          "height": 122
        },
        "outputId": "cc5f0ffb-2ebc-4daf-9026-17a139647363"
      },
      "source": [
        "# Imports\n",
        "\n",
        "import pandas as pd\n",
        "import os\n",
        "import numpy as np\n",
        "\n",
        "from google.colab import drive\n",
        "drive.mount('/content/drive')"
      ],
      "execution_count": 2,
      "outputs": [
        {
          "output_type": "stream",
          "text": [
            "Go to this URL in a browser: https://accounts.google.com/o/oauth2/auth?client_id=947318989803-6bn6qk8qdgf4n4g3pfee6491hc0brc4i.apps.googleusercontent.com&redirect_uri=urn%3aietf%3awg%3aoauth%3a2.0%3aoob&response_type=code&scope=email%20https%3a%2f%2fwww.googleapis.com%2fauth%2fdocs.test%20https%3a%2f%2fwww.googleapis.com%2fauth%2fdrive%20https%3a%2f%2fwww.googleapis.com%2fauth%2fdrive.photos.readonly%20https%3a%2f%2fwww.googleapis.com%2fauth%2fpeopleapi.readonly\n",
            "\n",
            "Enter your authorization code:\n",
            "··········\n",
            "Mounted at /content/drive\n"
          ],
          "name": "stdout"
        }
      ]
    },
    {
      "cell_type": "code",
      "metadata": {
        "id": "XFrlO2eM9I-G",
        "colab_type": "code",
        "colab": {
          "base_uri": "https://localhost:8080/",
          "height": 51
        },
        "outputId": "52fddd74-d4ff-4e93-e26e-b366239d8652"
      },
      "source": [
        "# Retrieve the CONFIDENTIAL patient dataset with test results\n",
        "\n",
        "# You must mount your drive if you have access to the ***CONFIDENTIAL PATIENT TEST RESULTS***\n",
        "test_result_array = []\n",
        "test_results_path = \"./drive/My Drive/patient-test-results/pcr-result\"\n",
        "\n",
        "for dirpath, dnames, fnames in os.walk(test_results_path):\n",
        "    for f in fnames:\n",
        "        if f.endswith(\".csv\"):\n",
        "            print(f)\n",
        "            file_path = os.path.join(test_results_path, f)\n",
        "            test_result_array += [pd.read_csv(file_path)] # Converts to a dataframe\n",
        "   \n",
        "\n",
        "\n"
      ],
      "execution_count": 25,
      "outputs": [
        {
          "output_type": "stream",
          "text": [
            "COVID-19 14-04-2020.xlsx - Sheet1.csv\n",
            "COVID-19 13-04-2020 (sanitized).csv\n"
          ],
          "name": "stdout"
        }
      ]
    },
    {
      "cell_type": "code",
      "metadata": {
        "id": "ULdlNGnrJ7RP",
        "colab_type": "code",
        "colab": {}
      },
      "source": [
        "# Read the Patient Raw Data \n",
        "\n",
        "# Retrieve the JSON\n",
        "!wget --user <USER> --password <PASSWORD> <LINK>\n",
        "\n"
      ],
      "execution_count": 0,
      "outputs": []
    },
    {
      "cell_type": "code",
      "metadata": {
        "id": "Ufl6ZboF_3Fs",
        "colab_type": "code",
        "colab": {}
      },
      "source": [
        ""
      ],
      "execution_count": 0,
      "outputs": []
    },
    {
      "cell_type": "code",
      "metadata": {
        "id": "D-epXEfuL3z5",
        "colab_type": "code",
        "colab": {}
      },
      "source": [
        "# Convert to a df\n",
        "\n",
        "json_df = pd.read_json(r'/content/admin_access_data')\n",
        "json_df.head()\n"
      ],
      "execution_count": 0,
      "outputs": []
    },
    {
      "cell_type": "code",
      "metadata": {
        "id": "V5i8rK4R9OMQ",
        "colab_type": "code",
        "colab": {}
      },
      "source": [
        "#TO DO: iterate through all the files provided by the hospital for matching\n",
        "\n",
        "\n",
        "daily_df_hospital = test_result_array[0]\n",
        "daily_df_hospital.head()"
      ],
      "execution_count": 0,
      "outputs": []
    },
    {
      "cell_type": "code",
      "metadata": {
        "id": "nHJmBtsgIG2Q",
        "colab_type": "code",
        "colab": {
          "base_uri": "https://localhost:8080/",
          "height": 122
        },
        "outputId": "6c0008d2-855a-4901-bf88-d7df7a08fa20"
      },
      "source": [
        "# Code to count the number of matches!\n",
        "\n",
        "#TO DO: iterate through all the files provided by the hospital for matching\n",
        "\n",
        "counter = 0\n",
        "match_counter = 0\n",
        "\n",
        "for patient_id in json_df['patientID']:\n",
        "  counter_1 = 0\n",
        "  for patient_id_2 in daily_df['COVID DATA 14/04/2020']: #Change the date column \n",
        "    patient_id = str(patient_id).replace('-' , '')\n",
        "    patient_id_2 = str(patient_id_2).replace('-' , '')\n",
        "    if patient_id == patient_id_2:\n",
        "      json_df['corona_test'][counter] = daily_df_hospital['Unnamed: 7'][counter_1] # Change the result column \n",
        "      match_counter += 1\n",
        "    counter_1 += 1\n",
        "  counter += 1\n",
        " \n",
        "\n",
        "\n"
      ],
      "execution_count": 31,
      "outputs": [
        {
          "output_type": "stream",
          "text": [
            "/usr/local/lib/python3.6/dist-packages/ipykernel_launcher.py:11: SettingWithCopyWarning: \n",
            "A value is trying to be set on a copy of a slice from a DataFrame\n",
            "\n",
            "See the caveats in the documentation: https://pandas.pydata.org/pandas-docs/stable/user_guide/indexing.html#returning-a-view-versus-a-copy\n",
            "  # This is added back by InteractiveShellApp.init_path()\n"
          ],
          "name": "stderr"
        }
      ]
    },
    {
      "cell_type": "code",
      "metadata": {
        "id": "DBCEWEAgNbaP",
        "colab_type": "code",
        "colab": {}
      },
      "source": [
        "# Anonymize Output\n",
        "\n",
        "deleted_patient_id = json_df.drop(columns='patient_id')\n",
        "deleted_PatientID = deleted_patient_id.drop(columns='patientID')\n",
        "\n",
        "deleted_PatientID.head()"
      ],
      "execution_count": 0,
      "outputs": []
    },
    {
      "cell_type": "code",
      "metadata": {
        "id": "2hH_nVncO8I8",
        "colab_type": "code",
        "outputId": "977fdb4b-b277-4e16-b2eb-bb0dd352680a",
        "colab": {
          "base_uri": "https://localhost:8080/",
          "height": 34
        }
      },
      "source": [
        "# Count the Percentage of Correctly Matched\n",
        "#counter = 0\n",
        "#for result in deleted_PatientID['corona_test']:\n",
        "# if result[-1].isupper():\n",
        "#    counter += 1\n",
        "\n",
        "\n",
        "\n",
        "print('The percentage of correctly mapped raw files is: ', round(match_counter/len(raw_df['patient_id']) * 100. ,2) , '%') "
      ],
      "execution_count": 33,
      "outputs": [
        {
          "output_type": "stream",
          "text": [
            "The percentage of correctly mapped raw files is:  44.44 %\n"
          ],
          "name": "stdout"
        }
      ]
    },
    {
      "cell_type": "code",
      "metadata": {
        "id": "7jxsv0NxDZgD",
        "colab_type": "code",
        "colab": {}
      },
      "source": [
        "# Store as a .csv\n",
        "filename = 'output-04-15-2020-1.csv'\n",
        "deleted_PatientID.to_csv('/content/drive/My Drive/patient-test-results/curated-outputs/' + filename )"
      ],
      "execution_count": 0,
      "outputs": []
    }
  ]
}