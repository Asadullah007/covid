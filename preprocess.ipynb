{
  "nbformat": 4,
  "nbformat_minor": 0,
  "metadata": {
    "colab": {
      "name": "preprocess.ipynb",
      "provenance": [],
      "collapsed_sections": []
    },
    "kernelspec": {
      "name": "python3",
      "display_name": "Python 3"
    }
  },
  "cells": [
    {
      "cell_type": "code",
      "metadata": {
        "id": "cF17Q4Si_a-j",
        "colab_type": "code",
        "colab": {}
      },
      "source": [
        "! git clone https://github.com/tyiannak/pyAudioAnalysis.git"
      ],
      "execution_count": 0,
      "outputs": []
    },
    {
      "cell_type": "markdown",
      "metadata": {
        "id": "W4lPNgqfD8lA",
        "colab_type": "text"
      },
      "source": [
        "[source article](https://walczak.org/2019/02/automatic-splitting-audio-files-silence-python/)\n",
        "\n",
        "[source github](https://github.com/tyiannak/pyAudioAnalysis)"
      ]
    },
    {
      "cell_type": "code",
      "metadata": {
        "id": "sp0FE2lzAKe4",
        "colab_type": "code",
        "colab": {}
      },
      "source": [
        "! pip install -r /content/pyAudioAnalysis/requirements.txt"
      ],
      "execution_count": 0,
      "outputs": []
    },
    {
      "cell_type": "code",
      "metadata": {
        "id": "D4qBOaU7_ow2",
        "colab_type": "code",
        "colab": {}
      },
      "source": [
        "import glob, os\n",
        "src_dir = \"\" # source directory path\n",
        "for file in sorted(glob.glob(f\"{src_dir}/*.wav\")):\n",
        "    print(\"#\"*40)\n",
        "    print(file)\n",
        "    src_code = \"/content/pyAudioAnalysis/pyAudioAnalysis/audioAnalysis.py\" # running using the sourcecode \n",
        "    os.system(f\"python {src_code} silenceRemoval -i \" + file + \" --smoothing 0.2 --weight 0.1\")"
      ],
      "execution_count": 0,
      "outputs": []
    }
  ]
}