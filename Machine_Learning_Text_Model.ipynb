{
  "nbformat": 4,
  "nbformat_minor": 0,
  "metadata": {
    "colab": {
      "name": "Machine-Learning-Text-Model.ipynb",
      "provenance": []
    },
    "kernelspec": {
      "name": "python3",
      "display_name": "Python 3"
    }
  },
  "cells": [
    {
      "cell_type": "code",
      "metadata": {
        "id": "7PnU1260K4ou",
        "colab_type": "code",
        "colab": {}
      },
      "source": [
        "# Imports\n",
        "\n",
        "import pandas as pd\n",
        "import numpy as np\n"
      ],
      "execution_count": 0,
      "outputs": []
    },
    {
      "cell_type": "code",
      "metadata": {
        "id": "Xc1b6hkvI0uc",
        "colab_type": "code",
        "colab": {
          "base_uri": "https://localhost:8080/",
          "height": 1000
        },
        "outputId": "da6ef28b-3793-4d6f-f6e8-60b732ed0134"
      },
      "source": [
        "# Import the data files to the local directory\n",
        "\n",
        "\n",
        "!wget https://www.detect-now.org/pakistan/url/org/admin_download_data -O temp.zip; unzip temp.zip; rm temp.zip\n"
      ],
      "execution_count": 2,
      "outputs": [
        {
          "output_type": "stream",
          "text": [
            "--2020-04-13 20:08:32--  https://www.detect-now.org/pakistan/url/org/admin_download_data\n",
            "Resolving www.detect-now.org (www.detect-now.org)... 52.178.92.96\n",
            "Connecting to www.detect-now.org (www.detect-now.org)|52.178.92.96|:443... connected.\n",
            "HTTP request sent, awaiting response... 302 FOUND\n",
            "Location: http://exportjob2.eba-frbk4nbf.eu-central-1.elasticbeanstalk.com/download [following]\n",
            "--2020-04-13 20:08:33--  http://exportjob2.eba-frbk4nbf.eu-central-1.elasticbeanstalk.com/download\n",
            "Resolving exportjob2.eba-frbk4nbf.eu-central-1.elasticbeanstalk.com (exportjob2.eba-frbk4nbf.eu-central-1.elasticbeanstalk.com)... 35.156.238.85, 18.185.183.197\n",
            "Connecting to exportjob2.eba-frbk4nbf.eu-central-1.elasticbeanstalk.com (exportjob2.eba-frbk4nbf.eu-central-1.elasticbeanstalk.com)|35.156.238.85|:80... connected.\n",
            "HTTP request sent, awaiting response... 200 OK\n",
            "Length: 51043429 (49M) [application/zip]\n",
            "Saving to: ‘temp.zip’\n",
            "\n",
            "temp.zip            100%[===================>]  48.68M  21.2MB/s    in 2.3s    \n",
            "\n",
            "2020-04-13 20:08:43 (21.2 MB/s) - ‘temp.zip’ saved [51043429/51043429]\n",
            "\n",
            "Archive:  temp.zip\n",
            "  inflating: DetectNow/1586808513345_8d266a2e-7dc2-11ea-9c90-022aca1b2e94/export.csv  \n",
            "  inflating: DetectNow/1586808513345_8d266a2e-7dc2-11ea-9c90-022aca1b2e94/video_data/video_9e173c5d-d6ef-4873-b758-540d6712ac05_1586807894App_Movie.mov  \n",
            "  inflating: DetectNow/1586808513345_8d266a2e-7dc2-11ea-9c90-022aca1b2e94/video_data/video_ccc626d1-bda6-4ce8-aa8a-ff2bdff8e7bb_158680533760849811851__67CD395C-70C3-4E44-9674-27A56CA08BEC.MOV  \n",
            "  inflating: DetectNow/1586808513345_8d266a2e-7dc2-11ea-9c90-022aca1b2e94/data/281e7aaf-4306-4828-bb61-77c3b1d85384_1586766350.wav  \n",
            "  inflating: DetectNow/1586808513345_8d266a2e-7dc2-11ea-9c90-022aca1b2e94/data/ff6061f4-0658-4b9e-bc2b-4ebe45db75b3_1586767853.wav  \n",
            "  inflating: DetectNow/1586808513345_8d266a2e-7dc2-11ea-9c90-022aca1b2e94/data/7a10c8b2-5716-4e28-82d0-a610399132dc_1586760170.wav  \n",
            "  inflating: DetectNow/1586808513345_8d266a2e-7dc2-11ea-9c90-022aca1b2e94/data/1de242a7-1dc8-40d1-946d-07c5927a638c_1586761529.wav  \n",
            "  inflating: DetectNow/1586808513345_8d266a2e-7dc2-11ea-9c90-022aca1b2e94/data/74f6da93-9b69-47d6-8ef9-18e7d7a3c4da_1586769549.wav  \n",
            "  inflating: DetectNow/1586808513345_8d266a2e-7dc2-11ea-9c90-022aca1b2e94/data/9383ecbb-7034-4731-b1c7-df1217fa80df_1586758686.wav  \n",
            "  inflating: DetectNow/1586808513345_8d266a2e-7dc2-11ea-9c90-022aca1b2e94/data/ffa9f1e5-74ed-4b60-8f9b-59baf7d6bbd7_1586768498.wav  \n",
            "  inflating: DetectNow/1586808513345_8d266a2e-7dc2-11ea-9c90-022aca1b2e94/data/3a4b7a0d-84af-4cdb-8a18-9b9b2a6cfab3_1586759949.wav  \n",
            "  inflating: DetectNow/1586808513345_8d266a2e-7dc2-11ea-9c90-022aca1b2e94/data/e648bbc5-ac53-4024-ad1c-65270eac7657_1586764385.wav  \n",
            "  inflating: DetectNow/1586808513345_8d266a2e-7dc2-11ea-9c90-022aca1b2e94/data/c1c14dbb-7f15-4bc0-8d86-485dd80d1492_1586759748.wav  \n",
            "  inflating: DetectNow/1586808513345_8d266a2e-7dc2-11ea-9c90-022aca1b2e94/data/d4b57a24-8654-4933-a1a3-29b72d447eba_1586807894.wav  \n",
            "  inflating: DetectNow/1586808513345_8d266a2e-7dc2-11ea-9c90-022aca1b2e94/data/3908e5f2-4eb7-43f7-8230-00bf6216e333_1586759053.wav  \n",
            "  inflating: DetectNow/1586808513345_8d266a2e-7dc2-11ea-9c90-022aca1b2e94/data/d3a3a426-e58b-40ae-a825-b0e6da66d783_1586761985.wav  \n",
            "  inflating: DetectNow/1586808513345_8d266a2e-7dc2-11ea-9c90-022aca1b2e94/data/8677b382-2895-4796-be13-dfedfd39833c_1586765358.wav  \n",
            "  inflating: DetectNow/1586808513345_8d266a2e-7dc2-11ea-9c90-022aca1b2e94/data/96e5c803-8a29-483f-bddf-e00917b682f6_1586769860.wav  \n",
            "  inflating: DetectNow/1586808513345_8d266a2e-7dc2-11ea-9c90-022aca1b2e94/data/f1fe5af2-70bb-46b8-ace2-502db538790e_1586765138.wav  \n",
            "  inflating: DetectNow/1586808513345_8d266a2e-7dc2-11ea-9c90-022aca1b2e94/data/1516c7d6-250e-40c3-a376-b260863d2a59_1586768705.wav  \n",
            "  inflating: DetectNow/1586808513345_8d266a2e-7dc2-11ea-9c90-022aca1b2e94/data/319462bf-cf98-46d8-83fb-a7ed21d409e0_1586763457.wav  \n",
            "  inflating: DetectNow/1586808513345_8d266a2e-7dc2-11ea-9c90-022aca1b2e94/data/d2b4fdc1-77d5-48ef-a13c-d3035936de73_1586766114.wav  \n",
            "  inflating: DetectNow/1586808513345_8d266a2e-7dc2-11ea-9c90-022aca1b2e94/data/88407e80-8617-4c3f-9933-486d21303f0b_1586767269.wav  \n",
            "  inflating: DetectNow/1586808513345_8d266a2e-7dc2-11ea-9c90-022aca1b2e94/data/92a7aded-78ed-4b09-a5fb-464a7334473a_1586760639.wav  \n",
            "  inflating: DetectNow/1586808513345_8d266a2e-7dc2-11ea-9c90-022aca1b2e94/data/3100e6eb-d849-4a6e-b22d-0897005ddb2e_1586766632.wav  \n",
            "  inflating: DetectNow/1586808513345_8d266a2e-7dc2-11ea-9c90-022aca1b2e94/data/d54ef744-8f07-4b22-9df3-1642323dd3fb_1586799581.wav  \n",
            "  inflating: DetectNow/1586808513345_8d266a2e-7dc2-11ea-9c90-022aca1b2e94/data/3b75596a-6022-42c4-8178-4f0608becc66_1586763989.wav  \n",
            "  inflating: DetectNow/1586808513345_8d266a2e-7dc2-11ea-9c90-022aca1b2e94/data/b861392b-aab5-4ba5-bdcb-2f75f95e7916_1586759427.wav  \n",
            "  inflating: DetectNow/1586808513345_8d266a2e-7dc2-11ea-9c90-022aca1b2e94/data/14b70ca6-a0c1-4e2c-9f14-0be17a2df1c1_1586769194.wav  \n",
            "  inflating: DetectNow/1586808513345_8d266a2e-7dc2-11ea-9c90-022aca1b2e94/data/4489ffdf-7628-4037-801b-0a04eee26e7f_1586799530.wav  \n",
            "  inflating: DetectNow/1586808513345_8d266a2e-7dc2-11ea-9c90-022aca1b2e94/data/a911df12-d5bc-4d70-935f-bbc0eab9a5c0_1586765643.wav  \n",
            "  inflating: DetectNow/1586808513345_8d266a2e-7dc2-11ea-9c90-022aca1b2e94/data/de468f64-0634-439a-9eae-4e5ef1ac6264_1586761060.wav  \n",
            "  inflating: DetectNow/1586808513345_8d266a2e-7dc2-11ea-9c90-022aca1b2e94/data/cec4df45-f07d-4301-b980-06420e0db0e5_1586626097.wav  \n",
            "  inflating: DetectNow/1586808513345_8d266a2e-7dc2-11ea-9c90-022aca1b2e94/data/bbb9f7d8-c98f-4f58-bda4-b28e5474f6f2_1586761334.wav  \n",
            "  inflating: DetectNow/1586808513345_8d266a2e-7dc2-11ea-9c90-022aca1b2e94/data/eec35ecb-dd94-449e-892f-fd29d1468af9_1586768167.wav  \n",
            "  inflating: DetectNow/1586808513345_8d266a2e-7dc2-11ea-9c90-022aca1b2e94/data/58e53fe0-2adb-45cd-9d58-2572471d6871_1586760365.wav  \n",
            "  inflating: DetectNow/1586808513345_8d266a2e-7dc2-11ea-9c90-022aca1b2e94/data/7c896f40-c484-43c7-a434-40fc3918a5bb_1586760833.wav  \n",
            "  inflating: DetectNow/1586808513345_8d266a2e-7dc2-11ea-9c90-022aca1b2e94/data/4acff1ef-2ed5-429d-af4f-7eb4eff0d159_1586762177.wav  \n",
            "  inflating: DetectNow/1586808513345_8d266a2e-7dc2-11ea-9c90-022aca1b2e94/data/749fad1c-bf86-4b3f-894f-89a3cad80af0_1586805337.wav  \n",
            "  inflating: DetectNow/1586808513345_8d266a2e-7dc2-11ea-9c90-022aca1b2e94/data/d22b61b5-3722-4908-9b9e-c79ad0ff12e1_1586761703.wav  \n"
          ],
          "name": "stdout"
        }
      ]
    },
    {
      "cell_type": "code",
      "metadata": {
        "id": "9Tn2pHaUKtAT",
        "colab_type": "code",
        "colab": {
          "base_uri": "https://localhost:8080/",
          "height": 343
        },
        "outputId": "54586768-0bfc-4410-d22b-86c74874dd21"
      },
      "source": [
        "# Extract the textual information from the .csv to a dataframe\n",
        "\n",
        "df = pd.read_csv(r'/content/DetectNow/1586808513345_8d266a2e-7dc2-11ea-9c90-022aca1b2e94/export.csv')\n",
        "df.head()"
      ],
      "execution_count": 79,
      "outputs": [
        {
          "output_type": "execute_result",
          "data": {
            "text/html": [
              "<div>\n",
              "<style scoped>\n",
              "    .dataframe tbody tr th:only-of-type {\n",
              "        vertical-align: middle;\n",
              "    }\n",
              "\n",
              "    .dataframe tbody tr th {\n",
              "        vertical-align: top;\n",
              "    }\n",
              "\n",
              "    .dataframe thead th {\n",
              "        text-align: right;\n",
              "    }\n",
              "</style>\n",
              "<table border=\"1\" class=\"dataframe\">\n",
              "  <thead>\n",
              "    <tr style=\"text-align: right;\">\n",
              "      <th></th>\n",
              "      <th>age</th>\n",
              "      <th>consent</th>\n",
              "      <th>corona_test</th>\n",
              "      <th>filename</th>\n",
              "      <th>gender</th>\n",
              "      <th>medical_history</th>\n",
              "      <th>patientID</th>\n",
              "      <th>patient_id</th>\n",
              "      <th>patient_reported_symptoms</th>\n",
              "      <th>sampleType</th>\n",
              "      <th>data_t</th>\n",
              "      <th>smoker</th>\n",
              "      <th>video_patient_finder_tip_filename</th>\n",
              "    </tr>\n",
              "  </thead>\n",
              "  <tbody>\n",
              "    <tr>\n",
              "      <th>0</th>\n",
              "      <td>41 - 55</td>\n",
              "      <td>yes</td>\n",
              "      <td>Negative</td>\n",
              "      <td>https://detectnowdatalake.blob.core.windows.ne...</td>\n",
              "      <td>male</td>\n",
              "      <td>Diabetes with complications,</td>\n",
              "      <td>DMC-202</td>\n",
              "      <td>637</td>\n",
              "      <td>Fever, chills, or sweating,New or worsening co...</td>\n",
              "      <td>study</td>\n",
              "      <td>NaN</td>\n",
              "      <td>NaN</td>\n",
              "      <td>NaN</td>\n",
              "    </tr>\n",
              "    <tr>\n",
              "      <th>1</th>\n",
              "      <td>31 - 40</td>\n",
              "      <td>yes</td>\n",
              "      <td>Not Tested</td>\n",
              "      <td>https://detectnowdatalake.blob.core.windows.ne...</td>\n",
              "      <td>female</td>\n",
              "      <td>Disease or conditions that make it harder to c...</td>\n",
              "      <td>20030511135111357902</td>\n",
              "      <td>648</td>\n",
              "      <td>New or worsening cough,Sore throat,</td>\n",
              "      <td>study</td>\n",
              "      <td>NaN</td>\n",
              "      <td>NaN</td>\n",
              "      <td>NaN</td>\n",
              "    </tr>\n",
              "    <tr>\n",
              "      <th>2</th>\n",
              "      <td>31 - 40</td>\n",
              "      <td>yes</td>\n",
              "      <td>Not Tested</td>\n",
              "      <td>https://detectnowdatalake.blob.core.windows.ne...</td>\n",
              "      <td>male</td>\n",
              "      <td>NaN</td>\n",
              "      <td>200413111464227</td>\n",
              "      <td>649</td>\n",
              "      <td>Fever, chills, or sweating,</td>\n",
              "      <td>study</td>\n",
              "      <td>NaN</td>\n",
              "      <td>NaN</td>\n",
              "      <td>NaN</td>\n",
              "    </tr>\n",
              "    <tr>\n",
              "      <th>3</th>\n",
              "      <td>18 - 30</td>\n",
              "      <td>yes</td>\n",
              "      <td>Not Tested</td>\n",
              "      <td>https://detectnowdatalake.blob.core.windows.ne...</td>\n",
              "      <td>male</td>\n",
              "      <td>NaN</td>\n",
              "      <td>200413111464200</td>\n",
              "      <td>650</td>\n",
              "      <td>NaN</td>\n",
              "      <td>guest</td>\n",
              "      <td>NaN</td>\n",
              "      <td>NaN</td>\n",
              "      <td>NaN</td>\n",
              "    </tr>\n",
              "    <tr>\n",
              "      <th>4</th>\n",
              "      <td>31 - 40</td>\n",
              "      <td>yes</td>\n",
              "      <td>Not Tested</td>\n",
              "      <td>https://detectnowdatalake.blob.core.windows.ne...</td>\n",
              "      <td>male</td>\n",
              "      <td>NaN</td>\n",
              "      <td>200413111463989</td>\n",
              "      <td>652</td>\n",
              "      <td>New or worsening cough,Loss of taste,Loss of s...</td>\n",
              "      <td>study</td>\n",
              "      <td>NaN</td>\n",
              "      <td>NaN</td>\n",
              "      <td>NaN</td>\n",
              "    </tr>\n",
              "  </tbody>\n",
              "</table>\n",
              "</div>"
            ],
            "text/plain": [
              "       age consent corona_test  ... data_t smoker video_patient_finder_tip_filename\n",
              "0  41 - 55     yes    Negative  ...    NaN    NaN                               NaN\n",
              "1  31 - 40     yes  Not Tested  ...    NaN    NaN                               NaN\n",
              "2  31 - 40     yes  Not Tested  ...    NaN    NaN                               NaN\n",
              "3  18 - 30     yes  Not Tested  ...    NaN    NaN                               NaN\n",
              "4  31 - 40     yes  Not Tested  ...    NaN    NaN                               NaN\n",
              "\n",
              "[5 rows x 13 columns]"
            ]
          },
          "metadata": {
            "tags": []
          },
          "execution_count": 79
        }
      ]
    },
    {
      "cell_type": "code",
      "metadata": {
        "id": "5o0cYQj6LS7V",
        "colab_type": "code",
        "colab": {
          "base_uri": "https://localhost:8080/",
          "height": 54
        },
        "outputId": "1bcba516-0dbc-4167-93ee-c269659ebe9f"
      },
      "source": [
        "# Extract Medical History and convert to dictionary with numbers\n",
        "\n",
        "med_history_array = np.asarray(df['medical_history'])\n",
        "\n",
        "## Replace the NaN with a -1 value\n",
        "med_history_array = np.nan_to_num(med_history_array ,copy=True , nan=-1.0)\n",
        "med_history_array = str(med_history_array)\n",
        "\n",
        "\n",
        "## Parse the med_history_array and find unique comma seperated strings \n",
        "\n",
        "med_history_dict = {}\n",
        "index = 0\n",
        "\n",
        "for entry in med_history_array.splitlines():\n",
        "    history_list = entry.split(\",\")\n",
        "    for hist in history_list:\n",
        "      hist = hist.replace('\\'' , '')\n",
        "      hist = hist.replace('[' , '')\n",
        "      hist = hist.replace(']' , '')\n",
        "      hist = hist.strip()\n",
        "      if hist not in med_history_dict and 'nan' not in hist:    \n",
        "        med_history_dict[hist] = index       \n",
        "        index += 1\n",
        "\n",
        "\n",
        "print(\"The dictionary with numbers: \", med_history_dict)\n"
      ],
      "execution_count": 92,
      "outputs": [
        {
          "output_type": "stream",
          "text": [
            "The dictionary with numbers:  {'Diabetes with complications': 0, '': 1, 'Disease or conditions that make it harder to cough': 2, 'Asthma or chronic lung disease': 3, 'Congestive heart failure': 4, 'None': 5}\n"
          ],
          "name": "stdout"
        }
      ]
    },
    {
      "cell_type": "code",
      "metadata": {
        "id": "BIO-NOHWRwAV",
        "colab_type": "code",
        "colab": {
          "base_uri": "https://localhost:8080/",
          "height": 34
        },
        "outputId": "33145f30-686b-4886-baff-04595efdc713"
      },
      "source": [
        "# Assign the patients numerical history combination to an array\n",
        "\n",
        "x_text_train = np.zeros(len(df['medical_history']))\n",
        "\n",
        "index = 0\n",
        "\n",
        "for entry in df['medical_history']:\n",
        "  if type(entry) is not float:\n",
        "    num_seq = ''\n",
        "  \n",
        "    for string in entry.split(\",\"):\n",
        "     \n",
        "      num_seq += str(med_history_dict[string])\n",
        "\n",
        "\n",
        "    x_text_train[index] = int(num_seq)\n",
        "    \n",
        "    \n",
        "  index += 1\n",
        "\n",
        "\n",
        "print('The shape of the x_text_train is ' , x_text_train.shape)"
      ],
      "execution_count": 93,
      "outputs": [
        {
          "output_type": "stream",
          "text": [
            "The shape of the x_text_train is  (37,)\n"
          ],
          "name": "stdout"
        }
      ]
    },
    {
      "cell_type": "code",
      "metadata": {
        "id": "ZoMt2OpUS-8G",
        "colab_type": "code",
        "colab": {
          "base_uri": "https://localhost:8080/",
          "height": 85
        },
        "outputId": "1214f876-2095-4357-89e8-b37a99bb489d"
      },
      "source": [
        "# Convert the y strings to digits\n",
        "\n",
        "df.loc[df['corona_test'] == 'Negative', 'corona_test'] = 0\n",
        "df.loc[df['corona_test'] == 'Positive', 'corona_test'] = 1\n",
        "df.loc[df['corona_test'] == 'Not Tested', 'corona_test'] = -1\n",
        "\n",
        "y_text_array = np.asarray(df['corona_test'])\n",
        "print('The shape of the y_text_train is ' , y_text_array.shape)\n",
        "\n",
        "print('The x array is: ' , x_text_train)\n"
      ],
      "execution_count": 98,
      "outputs": [
        {
          "output_type": "stream",
          "text": [
            "The shape of the y_text_train is  (37,)\n",
            "The x array is:  [  1.  21.   0.   0.   0.   0.   0.  31.   0.   0.   0.  21.  21.  21.\n",
            "   1.  41.  21.   0.  21.   0.   0.  31.   0.   0.   0.   0.  31.   0.\n",
            "   0.   0.   0. 341.   0.   0.  31.  31.  51.]\n"
          ],
          "name": "stdout"
        }
      ]
    },
    {
      "cell_type": "code",
      "metadata": {
        "id": "GhOkqZxUarnp",
        "colab_type": "code",
        "colab": {}
      },
      "source": [
        "# TODO: Build the Simple models \n",
        "# These include:\n",
        "  # -Random Forest\n",
        "  # -SVM \n",
        "  # -Simple statistical cutoff\n",
        "\n",
        "\n",
        "\n"
      ],
      "execution_count": 0,
      "outputs": []
    }
  ]
}