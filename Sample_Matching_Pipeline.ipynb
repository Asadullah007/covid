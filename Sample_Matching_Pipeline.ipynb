{
  "nbformat": 4,
  "nbformat_minor": 0,
  "metadata": {
    "colab": {
      "name": "Sample-Matching-Pipeline.ipynb",
      "provenance": []
    },
    "kernelspec": {
      "name": "python3",
      "display_name": "Python 3"
    }
  },
  "cells": [
    {
      "cell_type": "code",
      "metadata": {
        "id": "nnn1StEPAiKH",
        "colab_type": "code",
        "colab": {}
      },
      "source": [
        "# Imports\n",
        "\n",
        "import pandas as pd\n",
        "import os\n",
        "\n"
      ],
      "execution_count": 0,
      "outputs": []
    },
    {
      "cell_type": "code",
      "metadata": {
        "id": "XFrlO2eM9I-G",
        "colab_type": "code",
        "colab": {}
      },
      "source": [
        "# Retrieve the CONFIDENTIAL patient dataset with test results\n",
        "\n",
        "# You must mount your drive if you have access to the ***CONFIDENTIAL PATIENT TEST RESULTS***\n",
        "test_result_array = []\n",
        "test_results_path = \"./drive/My Drive/patient-test-results\"\n",
        "\n",
        "for dirpath, dnames, fnames in os.walk(test_results_path):\n",
        "    for f in fnames:\n",
        "        if f.endswith(\".csv\"):\n",
        "            file_path = os.path.join(test_results_path, f)\n",
        "            test_result_array += [pd.read_csv(file_path)]\n",
        "   \n",
        "\n",
        "\n"
      ],
      "execution_count": 0,
      "outputs": []
    },
    {
      "cell_type": "code",
      "metadata": {
        "id": "ULdlNGnrJ7RP",
        "colab_type": "code",
        "colab": {}
      },
      "source": [
        "# Read the Patient Raw Data \n",
        "\n",
        "# Retrieve the JSON\n",
        "!wget --user <USER> --password <PASSWORD>  <LINK>\n",
        "\n"
      ],
      "execution_count": 0,
      "outputs": []
    },
    {
      "cell_type": "code",
      "metadata": {
        "id": "D-epXEfuL3z5",
        "colab_type": "code",
        "colab": {}
      },
      "source": [
        "# Convert to a df\n",
        "\n",
        "raw_df = pd.read_json(r'/content/admin_access_data')\n",
        "raw_df.head()"
      ],
      "execution_count": 0,
      "outputs": []
    },
    {
      "cell_type": "code",
      "metadata": {
        "id": "nHJmBtsgIG2Q",
        "colab_type": "code",
        "colab": {}
      },
      "source": [
        "for patient_id in raw_df['patientID']:\n",
        "  if patient_id = MR_No"
      ],
      "execution_count": 0,
      "outputs": []
    }
  ]
}