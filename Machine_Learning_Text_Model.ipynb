{
  "nbformat": 4,
  "nbformat_minor": 0,
  "metadata": {
    "colab": {
      "name": "Machine_Learning_Text_Model.ipynb",
      "provenance": [],
      "collapsed_sections": []
    },
    "kernelspec": {
      "name": "python3",
      "display_name": "Python 3"
    }
  },
  "cells": [
    {
      "cell_type": "code",
      "metadata": {
        "id": "7PnU1260K4ou",
        "colab_type": "code",
        "colab": {}
      },
      "source": [
        "# Imports\n",
        "\n",
        "import pandas as pd\n",
        "import numpy as np\n",
        "import re\n",
        "from sklearn.ensemble import RandomForestClassifier as rf\n",
        "from sklearn.model_selection import train_test_split\n"
      ],
      "execution_count": 0,
      "outputs": []
    },
    {
      "cell_type": "code",
      "metadata": {
        "id": "gUG0-ulMA7NB",
        "colab_type": "code",
        "colab": {
          "base_uri": "https://localhost:8080/",
          "height": 122
        },
        "outputId": "6e2222f7-ee15-441c-c7c6-e60490bdad5f"
      },
      "source": [
        "# Mount the drive to access the properly labeled patient information\n",
        "\n",
        "from google.colab import drive\n",
        "drive.mount('/content/drive')"
      ],
      "execution_count": 1,
      "outputs": [
        {
          "output_type": "stream",
          "text": [
            "Go to this URL in a browser: https://accounts.google.com/o/oauth2/auth?client_id=947318989803-6bn6qk8qdgf4n4g3pfee6491hc0brc4i.apps.googleusercontent.com&redirect_uri=urn%3aietf%3awg%3aoauth%3a2.0%3aoob&response_type=code&scope=email%20https%3a%2f%2fwww.googleapis.com%2fauth%2fdocs.test%20https%3a%2f%2fwww.googleapis.com%2fauth%2fdrive%20https%3a%2f%2fwww.googleapis.com%2fauth%2fdrive.photos.readonly%20https%3a%2f%2fwww.googleapis.com%2fauth%2fpeopleapi.readonly\n",
            "\n",
            "Enter your authorization code:\n",
            "··········\n",
            "Mounted at /content/drive\n"
          ],
          "name": "stdout"
        }
      ]
    },
    {
      "cell_type": "code",
      "metadata": {
        "id": "Xc1b6hkvI0uc",
        "colab_type": "code",
        "colab": {}
      },
      "source": [
        "# Read the curated .csv file into a pandas df\n",
        "\n",
        "\n",
        "curated_results = pd.read_csv('/content/drive/My Drive/patient-test-results/curated-outputs/output-04-15-2020-1.csv')\n",
        "curated_results\n",
        "\n",
        "\n",
        "\n"
      ],
      "execution_count": 0,
      "outputs": []
    },
    {
      "cell_type": "code",
      "metadata": {
        "id": "qIWbizsiCxqv",
        "colab_type": "code",
        "colab": {}
      },
      "source": [
        "# Extract only the POSITIVE and NEGATIVE labeled data\n",
        "\n",
        "curated_results_f1 = curated_results[curated_results.patient_mrn != 'UNMAPPED']\n",
        "\n",
        "# TODO: Fix this filter, as it is not working\n",
        "curated_results_f2 = curated_results_f1[curated_results.corona_test\t!= 'REPEAT ']\n",
        "\n",
        "curated_results_f2.head()"
      ],
      "execution_count": 0,
      "outputs": []
    },
    {
      "cell_type": "code",
      "metadata": {
        "id": "hV8i7iuzF3GA",
        "colab_type": "code",
        "colab": {
          "base_uri": "https://localhost:8080/",
          "height": 51
        },
        "outputId": "887f48c4-d738-4b3f-e01a-b440f8a1a66a"
      },
      "source": [
        "# Convert to a np array \n",
        "\n",
        "\n",
        "positive_sample_df =  curated_results_f2[curated_results_f2.corona_test == 'POSTIVE']\n",
        "negative_sample_df = curated_results_f2[curated_results_f2.corona_test == 'NEGATIVE']\n",
        "\n",
        "positive_sample_array = np.asarray(positive_sample_df)\n",
        "negative_sample_array = np.asarray(negative_sample_df)\n",
        "\n",
        "\n",
        "print(\"There are \" , positive_sample_array.shape[0] , \"positive samples in total\")\n",
        "print(\"There are \" , negative_sample_array.shape[0] , \"negative in total\")\n",
        "\n"
      ],
      "execution_count": 63,
      "outputs": [
        {
          "output_type": "stream",
          "text": [
            "There are  6 positive samples in total\n",
            "There are  36 negative in total\n"
          ],
          "name": "stdout"
        }
      ]
    },
    {
      "cell_type": "code",
      "metadata": {
        "id": "5o0cYQj6LS7V",
        "colab_type": "code",
        "outputId": "e97edb7e-24f3-4f47-bf8a-1545a8bd4627",
        "colab": {
          "base_uri": "https://localhost:8080/",
          "height": 34
        }
      },
      "source": [
        "# Extract Medical History and convert to dictionary with numbers\n",
        "\n",
        "med_history_array = curated_results_f2['medical_history']\n",
        "\n",
        "\n",
        "\n",
        "#med_history_array = str(med_history_array)\n",
        "\n",
        "\n",
        "## Parse the med_history_array and find unique comma seperated strings \n",
        "\n",
        "med_history_dict = {}\n",
        "index = 0\n",
        "\n",
        "for entry in med_history_array:\n",
        "    entry = str(entry)\n",
        "    history_list = entry.split(\",\")\n",
        "    for hist in history_list:\n",
        "      hist = hist.strip()\n",
        "      hist_string = str(hist)\n",
        "      if hist_string not in med_history_dict and 'None' not in hist and hist is not '' and 'nan' not in hist_string:    \n",
        "        med_history_dict[hist_string] = index       \n",
        "        index += 1\n",
        "\n",
        "\n",
        "print(\"The dictionary with numbers: \", med_history_dict)\n"
      ],
      "execution_count": 69,
      "outputs": [
        {
          "output_type": "stream",
          "text": [
            "The dictionary with numbers:  {'Asthma or chronic lung disease': 0, 'Disease or conditions that make it harder to cough': 1, 'Diabetes with complications': 2, 'Congestive heart failure': 3}\n"
          ],
          "name": "stdout"
        }
      ]
    },
    {
      "cell_type": "code",
      "metadata": {
        "id": "BIO-NOHWRwAV",
        "colab_type": "code",
        "outputId": "75054d3f-4f38-414d-f271-b79ffce6d910",
        "colab": {
          "base_uri": "https://localhost:8080/",
          "height": 34
        }
      },
      "source": [
        "# Assign the patients numerical history combination to an array\n",
        "\n",
        "x_hist_text_train = np.zeros(len(curated_results_f2['medical_history']))\n",
        "\n",
        "index = 0\n",
        "\n",
        "for entry in curated_results_f2['medical_history']:\n",
        "  entry = str(entry)\n",
        "  num_seq = ''\n",
        "  if 'None' not in entry:\n",
        "    for string in entry.split(\",\"):\n",
        "      if string is not '' and 'nan' not in string:\n",
        "        num_seq += str(med_history_dict[string])\n",
        "\n",
        "  if len(num_seq) != 0:\n",
        "    x_hist_text_train[index] = int(num_seq)\n",
        "    \n",
        "  else: \n",
        "    x_hist_text_train[index] = -1.0\n",
        "  index += 1\n",
        "\n",
        "\n",
        "print('The shape of the x_text_train is ' , x_hist_text_train.shape)\n"
      ],
      "execution_count": 74,
      "outputs": [
        {
          "output_type": "stream",
          "text": [
            "The shape of the x_text_train is  (42,)\n"
          ],
          "name": "stdout"
        }
      ]
    },
    {
      "cell_type": "code",
      "metadata": {
        "id": "0l5jU_sChzSC",
        "colab_type": "code",
        "outputId": "b353fb48-c054-441e-9900-dabe8c3a2cce",
        "colab": {
          "base_uri": "https://localhost:8080/",
          "height": 34
        }
      },
      "source": [
        "# Extract patient reported symptoms and convert to dictionary with numbers \n",
        "\n",
        "\n",
        "## Parse the med_history_array and find unique comma seperated strings \n",
        "\n",
        "symptom_dict = {}\n",
        "index = 0\n",
        "\n",
        "for entry in curated_results_f2['patient_reported_symptoms']:\n",
        "    entry = str(entry)\n",
        "    split_entry = re.findall('[A-Z][^A-Z]*', entry)\n",
        "    for symptom in split_entry:\n",
        "      symptom = symptom.strip().replace(',' , '')\n",
        "      #symptom = symptom.strip().replace('\\'' , '')\n",
        "      #symptom = symptom.replace('nan' , '').strip()\n",
        "      #symptom = symptom.replace(']' , '')\n",
        "      if symptom not in symptom_dict and 'None' not in symptom and 'nan' not in symptom:\n",
        "        symptom_dict[symptom] = index\n",
        "        index += 1\n",
        "\n",
        "print(\"The dictionary with numbers: \", symptom_dict)\n"
      ],
      "execution_count": 79,
      "outputs": [
        {
          "output_type": "stream",
          "text": [
            "The dictionary with numbers:  {'Fever chills or sweating': 0, 'Shortness of breath': 1, 'Loss of taste': 2, 'Loss of smell': 3, 'New or worsening cough': 4, 'Sore throat': 5, 'Body aches': 6}\n"
          ],
          "name": "stdout"
        }
      ]
    },
    {
      "cell_type": "code",
      "metadata": {
        "id": "jg4wy2FsnATn",
        "colab_type": "code",
        "outputId": "f7226357-7677-4fc0-88bb-d2da6b94b4d9",
        "colab": {
          "base_uri": "https://localhost:8080/",
          "height": 34
        }
      },
      "source": [
        "# Assign the patients numerical symptom combination to an array\n",
        "\n",
        "x_symp_text_train = np.zeros(len(curated_results_f2['patient_reported_symptoms']))\n",
        "\n",
        "index = 0\n",
        "\n",
        "for entry in curated_results_f2['patient_reported_symptoms']:\n",
        "  entry = str(entry)\n",
        "  num_seq = ''\n",
        "  if type(entry) is not float:\n",
        "    \n",
        "    split_entry = re.findall('[A-Z][^A-Z]*', entry)\n",
        "\n",
        "    for symptom in split_entry:\n",
        "        symptom = symptom.strip().replace(',' , '')\n",
        "\n",
        "        if 'None' not in symptom:\n",
        "          num_seq += str(symptom_dict[symptom])\n",
        "  \n",
        "  if len(num_seq) != 0:\n",
        "    x_symp_text_train[index] = int(num_seq)\n",
        "    \n",
        "  else: \n",
        "    x_symp_text_train[index] = -1.0\n",
        "  index += 1\n",
        "\n",
        "print('The shape of the x_text_train is ' , x_symp_text_train.shape)\n"
      ],
      "execution_count": 83,
      "outputs": [
        {
          "output_type": "stream",
          "text": [
            "The shape of the x_text_train is  (42,)\n"
          ],
          "name": "stdout"
        }
      ]
    },
    {
      "cell_type": "code",
      "metadata": {
        "id": "ZoMt2OpUS-8G",
        "colab_type": "code",
        "colab": {
          "base_uri": "https://localhost:8080/",
          "height": 119
        },
        "outputId": "e1a17aa5-64e8-42c2-ac76-14793b1f60d2"
      },
      "source": [
        "# Convert the y strings to digits\n",
        "\n",
        "curated_results_f2.loc[curated_results_f2['corona_test'] == 'NEGATIVE', 'corona_test'] = 0\n",
        "curated_results_f2.loc[curated_results_f2['corona_test'] == 'POSTIVE', 'corona_test'] = 1\n",
        "#df.loc[df['corona_test'] == 'Not Tested', 'corona_test'] = -1\n",
        "\n",
        "y_text_array = np.asarray(curated_results_f2['corona_test'])\n",
        "\n",
        "\n"
      ],
      "execution_count": 86,
      "outputs": [
        {
          "output_type": "stream",
          "text": [
            "/usr/local/lib/python3.6/dist-packages/pandas/core/indexing.py:966: SettingWithCopyWarning: \n",
            "A value is trying to be set on a copy of a slice from a DataFrame.\n",
            "Try using .loc[row_indexer,col_indexer] = value instead\n",
            "\n",
            "See the caveats in the documentation: https://pandas.pydata.org/pandas-docs/stable/user_guide/indexing.html#returning-a-view-versus-a-copy\n",
            "  self.obj[item] = s\n"
          ],
          "name": "stderr"
        }
      ]
    },
    {
      "cell_type": "code",
      "metadata": {
        "id": "0PR9NmKPo7sc",
        "colab_type": "code",
        "outputId": "34b6116c-7773-46a8-e106-24748d48ddc3",
        "colab": {
          "base_uri": "https://localhost:8080/",
          "height": 238
        }
      },
      "source": [
        "print('The x medical history sequence array is: ' , x_hist_text_train)\n",
        "print('The x symptoms sequence array is: ' , x_symp_text_train)\n",
        "print('The shape of the y_text_train is ' , y_text_array.shape)\n",
        "\n"
      ],
      "execution_count": 87,
      "outputs": [
        {
          "output_type": "stream",
          "text": [
            "The x medical history sequence array is:  [-1. -1. -1.  0.  1.  2. -1. -1. -1. -1. -1. -1. -1.  0. -1. -1.  0.  1.\n",
            "  2. -1. -1. -1. -1. -1.  1. -1.  1. -1. -1. -1.  1.  1.  2.  2.  2. -1.\n",
            " -1. -1. 23.  1.  2. -1.]\n",
            "The x symptoms sequence array is:  [ 0.00000e+00  1.23000e+02  4.00000e+00  1.42300e+03  4.00000e+00\n",
            " -1.00000e+00 -1.00000e+00  5.00000e+00  1.40000e+01  1.00000e+00\n",
            "  1.00000e+00  4.00000e+00  1.00000e+00  1.60000e+01  5.60000e+01\n",
            "  1.53000e+02  4.52000e+02 -1.00000e+00  1.45200e+03  5.00000e+00\n",
            "  4.50000e+01  1.50000e+01  5.00000e+00 -1.00000e+00  1.56000e+02\n",
            "  4.00000e+00  1.45000e+02  4.00000e+00  0.00000e+00  1.50000e+01\n",
            "  1.00000e+00  1.46000e+02 -1.00000e+00 -1.00000e+00  1.45620e+04\n",
            " -1.00000e+00  6.20000e+01 -1.00000e+00  4.53000e+02  1.45623e+05\n",
            "  1.42300e+03  4.00000e+00]\n",
            "The shape of the y_text_train is  (42,)\n"
          ],
          "name": "stdout"
        }
      ]
    },
    {
      "cell_type": "code",
      "metadata": {
        "id": "7XkIBouSezc4",
        "colab_type": "code",
        "colab": {}
      },
      "source": [
        "# Split into train, validate, and test\n",
        "\n",
        "## Question: How should we split the data-sets?\n",
        "\n",
        "\n",
        "X_train, X_test, y_train, y_test = train_test_split(x_hist_text_train, y_text_array, test_size=0.2, random_state=1) # What shouldd the X be?\n",
        "\n",
        "X_train, X_val, y_train, y_val = train_test_split(X_train, y_train, test_size=0.25, random_state=1) # 0.25 x 0.8 = 0.2\n",
        "\n",
        "## Another question: How should we combine the medical history and the symptoms?"
      ],
      "execution_count": 0,
      "outputs": []
    },
    {
      "cell_type": "code",
      "metadata": {
        "id": "FfWSIAusabF5",
        "colab_type": "code",
        "colab": {}
      },
      "source": [
        "# Random Forest Classifer\n",
        "\n",
        "def rf_model(x_train , y_train , num_branches):\n",
        "\n",
        "  model = rf()\n",
        "  model.fit(x_train , y_train)\n",
        "  \n",
        "  # Evaluate the model\n",
        "  \n"
      ],
      "execution_count": 0,
      "outputs": []
    },
    {
      "cell_type": "code",
      "metadata": {
        "id": "DZ7xCMb1zmOJ",
        "colab_type": "code",
        "colab": {}
      },
      "source": [
        "#  - SVM "
      ],
      "execution_count": 0,
      "outputs": []
    },
    {
      "cell_type": "code",
      "metadata": {
        "id": "p1w3VpSVzvEh",
        "colab_type": "code",
        "colab": {}
      },
      "source": [
        "# - Decision Tree"
      ],
      "execution_count": 0,
      "outputs": []
    },
    {
      "cell_type": "code",
      "metadata": {
        "id": "pQEvkP1oUKhB",
        "colab_type": "code",
        "colab": {}
      },
      "source": [
        "# TODO: Build more complex models\n",
        "\n",
        "# - Deep Learning Model ???\n",
        "# Things to try\n",
        "\n",
        "# - Fully connected NN\n",
        "# - K means clustering on the digit vectors from the text\n"
      ],
      "execution_count": 0,
      "outputs": []
    }
  ]
}