{
  "nbformat": 4,
  "nbformat_minor": 0,
  "metadata": {
    "colab": {
      "name": "Machine_Learning_Text_Model.ipynb",
      "provenance": [],
      "collapsed_sections": []
    },
    "kernelspec": {
      "name": "python3",
      "display_name": "Python 3"
    }
  },
  "cells": [
    {
      "cell_type": "code",
      "metadata": {
        "id": "7PnU1260K4ou",
        "colab_type": "code",
        "outputId": "7f93290f-3c4b-474d-85d0-7f3914e29fff",
        "colab": {
          "base_uri": "https://localhost:8080/",
          "height": 89
        }
      },
      "source": [
        "# Imports\n",
        "\n",
        "import pandas as pd\n",
        "import numpy as np\n",
        "import re\n",
        "from sklearn.ensemble import RandomForestClassifier as rf\n",
        "from sklearn.model_selection import train_test_split\n",
        "from keras.preprocessing.sequence import pad_sequences\n",
        "from sklearn.svm import SVC\n",
        "from sklearn.metrics import confusion_matrix\n",
        "import seaborn\n",
        "import matplotlib.pyplot as plt\n",
        "from sklearn.utils import resample\n",
        "from sklearn.linear_model import LogisticRegression\n",
        "from sklearn.model_selection import cross_val_score\n"
      ],
      "execution_count": 3,
      "outputs": [
        {
          "output_type": "stream",
          "text": [
            "Using TensorFlow backend.\n",
            "/usr/local/lib/python3.6/dist-packages/statsmodels/tools/_testing.py:19: FutureWarning: pandas.util.testing is deprecated. Use the functions in the public API at pandas.testing instead.\n",
            "  import pandas.util.testing as tm\n"
          ],
          "name": "stderr"
        }
      ]
    },
    {
      "cell_type": "code",
      "metadata": {
        "id": "6zmx2l8e0UwQ",
        "colab_type": "code",
        "outputId": "7af7ce4a-18b1-49a1-89f4-919b74c42cd3",
        "colab": {
          "base_uri": "https://localhost:8080/",
          "height": 124
        }
      },
      "source": [
        "from google.colab import drive\n",
        "drive.mount('/content/drive')"
      ],
      "execution_count": 1,
      "outputs": [
        {
          "output_type": "stream",
          "text": [
            "Go to this URL in a browser: https://accounts.google.com/o/oauth2/auth?client_id=947318989803-6bn6qk8qdgf4n4g3pfee6491hc0brc4i.apps.googleusercontent.com&redirect_uri=urn%3aietf%3awg%3aoauth%3a2.0%3aoob&response_type=code&scope=email%20https%3a%2f%2fwww.googleapis.com%2fauth%2fdocs.test%20https%3a%2f%2fwww.googleapis.com%2fauth%2fdrive%20https%3a%2f%2fwww.googleapis.com%2fauth%2fdrive.photos.readonly%20https%3a%2f%2fwww.googleapis.com%2fauth%2fpeopleapi.readonly\n",
            "\n",
            "Enter your authorization code:\n",
            "··········\n",
            "Mounted at /content/drive\n"
          ],
          "name": "stdout"
        }
      ]
    },
    {
      "cell_type": "code",
      "metadata": {
        "id": "Xc1b6hkvI0uc",
        "colab_type": "code",
        "colab": {}
      },
      "source": [
        "# Read the curated .csv file into a pandas df\n",
        "\n",
        "\n",
        "curated_results = pd.read_excel(r'/content/drive/My Drive/patient-test-results/pcr-result/combined-csv-app+notebook.xlsx', error_bad_lines=False)\n",
        "curated_results\n",
        "\n",
        "\n",
        "\n"
      ],
      "execution_count": 0,
      "outputs": []
    },
    {
      "cell_type": "code",
      "metadata": {
        "id": "qIWbizsiCxqv",
        "colab_type": "code",
        "colab": {}
      },
      "source": [
        "# Extract only the POSITIVE and NEGATIVE labeled data\n",
        "\n",
        "#curated_results_f1 = curated_results[curated_results.patient_mrn != 'UNMAPPED']\n",
        "\n",
        "# TODO: Fix this filter, as it is not working\n",
        "#curated_results_f2 = curated_results_f1[curated_results.corona_test\t!= 'REPEAT ']\n",
        "\n",
        "curated_results_f2 = curated_results[curated_results.corona_test\t!= 'REPEAT ']\n",
        "curated_results_f2 = curated_results_f2[curated_results.corona_test\t!= 'Not Tested']\n",
        "\n",
        "curated_results_f2.head()"
      ],
      "execution_count": 0,
      "outputs": []
    },
    {
      "cell_type": "code",
      "metadata": {
        "id": "hV8i7iuzF3GA",
        "colab_type": "code",
        "outputId": "258a8c44-1399-401d-f0e1-0ddbf9c41c84",
        "colab": {
          "base_uri": "https://localhost:8080/",
          "height": 52
        }
      },
      "source": [
        "# Convert to a np array \n",
        "\n",
        "\n",
        "\n",
        "curated_results_f2.loc[curated_results_f2['corona_test'] == 'POSTIVE', 'corona_test'] = 'POSITIVE'\n",
        "positive_sample_df =  curated_results_f2[curated_results_f2.corona_test == 'POSITIVE']\n",
        "negative_sample_df = curated_results_f2[curated_results_f2.corona_test == 'NEGATIVE']\n",
        "\n",
        "\n",
        "\n",
        "\n",
        "curated_results_f2.loc[curated_results_f2['gender'] == 'male', 'gender'] = 'MALE'\n",
        "curated_results_f2.loc[curated_results_f2['gender'] == 'female', 'gender'] = 'FEMALE'\n",
        "positive_sample_array = np.asarray(positive_sample_df)\n",
        "negative_sample_array = np.asarray(negative_sample_df)\n",
        "\n",
        "\n",
        "print(\"There are \" , positive_sample_array.shape[0] , \"positive samples in total\")\n",
        "print(\"There are \" , negative_sample_array.shape[0] , \"negative samples in total\")\n",
        "\n"
      ],
      "execution_count": 7,
      "outputs": [
        {
          "output_type": "stream",
          "text": [
            "There are  12 positive samples in total\n",
            "There are  66 negative samples in total\n"
          ],
          "name": "stdout"
        }
      ]
    },
    {
      "cell_type": "code",
      "metadata": {
        "id": "2pPCLQxR_Vc_",
        "colab_type": "code",
        "colab": {}
      },
      "source": [
        "\n",
        "negative_num_samples = len(negative_sample_df)\n",
        "\n",
        "# Upsample minority class\n",
        "df_pos_upsampled = resample(positive_sample_df, \n",
        "                                 replace=True,     # sample with replacement\n",
        "                                 n_samples=negative_num_samples,    # to match majority class\n",
        "                                 random_state=123) # reproducible results\n",
        "\n",
        "\n",
        "df_upsampled = pd.concat([negative_sample_df, df_pos_upsampled])"
      ],
      "execution_count": 0,
      "outputs": []
    },
    {
      "cell_type": "code",
      "metadata": {
        "id": "J_5jaXWy_18B",
        "colab_type": "code",
        "outputId": "b9ebf193-b54a-4d2d-d980-6563e8744032",
        "colab": {
          "base_uri": "https://localhost:8080/",
          "height": 52
        }
      },
      "source": [
        "\n",
        "print(\"There are \" , negative_num_samples, \"positive upsampled samples in total\")\n",
        "print(\"There are \" ,  negative_num_samples, \"negative upsampled samples in total\")"
      ],
      "execution_count": 9,
      "outputs": [
        {
          "output_type": "stream",
          "text": [
            "There are  66 positive upsampled samples in total\n",
            "There are  66 negative upsampled samples in total\n"
          ],
          "name": "stdout"
        }
      ]
    },
    {
      "cell_type": "code",
      "metadata": {
        "id": "5o0cYQj6LS7V",
        "colab_type": "code",
        "outputId": "e733c0a9-075e-4229-ffa4-44fb76d70f17",
        "colab": {
          "base_uri": "https://localhost:8080/",
          "height": 55
        }
      },
      "source": [
        "# Extract Medical History and convert to dictionary with numbers\n",
        "\n",
        "med_history_array = df_upsampled['medical_history']\n",
        "\n",
        "\n",
        "\n",
        "#med_history_array = str(med_history_array)\n",
        "\n",
        "\n",
        "## Parse the med_history_array and find unique comma seperated strings \n",
        "\n",
        "med_history_dict = {}\n",
        "index = 0\n",
        "\n",
        "for entry in med_history_array:\n",
        "    entry = str(entry)\n",
        "    history_list = entry.split(\",\")\n",
        "    for hist in history_list:\n",
        "      hist = hist.strip()\n",
        "      hist_string = str(hist)\n",
        "      if hist_string not in med_history_dict and 'None' not in hist and hist is not '' and 'nan' not in hist_string:    \n",
        "        med_history_dict[hist_string] = index       \n",
        "        index += 1\n",
        "\n",
        "\n",
        "print(\"The dictionary with numbers: \", med_history_dict)\n"
      ],
      "execution_count": 10,
      "outputs": [
        {
          "output_type": "stream",
          "text": [
            "The dictionary with numbers:  {'Diabetes with complications': 0, 'Asthma or chronic lung disease': 1, 'Disease or conditions that make it harder to cough': 2, 'Congestive heart failure': 3, 'Extreme obesity': 4}\n"
          ],
          "name": "stdout"
        }
      ]
    },
    {
      "cell_type": "code",
      "metadata": {
        "id": "BIO-NOHWRwAV",
        "colab_type": "code",
        "outputId": "1714045f-609c-434c-e006-9605f58ec04e",
        "colab": {
          "base_uri": "https://localhost:8080/",
          "height": 35
        }
      },
      "source": [
        "# Assign the patients numerical history combination to an array\n",
        "\n",
        "x_hist_text_train = []\n",
        "\n",
        "\n",
        "for entry in df_upsampled['medical_history']:\n",
        "  entry = str(entry)\n",
        "  num_seq = []\n",
        "  if 'None' not in entry:\n",
        "    for string in entry.split(\",\"):\n",
        "      if string is not '' and 'nan' not in string:\n",
        "        num_seq.append(med_history_dict[string])\n",
        "\n",
        "\n",
        "  final_array = np.asarray(num_seq) \n",
        "\n",
        "  x_hist_text_train.append(final_array)\n",
        "\n",
        "\n",
        "x_hist_text_train = np.asarray(x_hist_text_train)\n",
        "print('The shape of the x_text_train is ' , x_hist_text_train.shape)\n",
        "\n",
        "x_hist_text_train = pad_sequences(x_hist_text_train)\n",
        "\n",
        "\n"
      ],
      "execution_count": 11,
      "outputs": [
        {
          "output_type": "stream",
          "text": [
            "The shape of the x_text_train is  (132,)\n"
          ],
          "name": "stdout"
        }
      ]
    },
    {
      "cell_type": "code",
      "metadata": {
        "id": "0l5jU_sChzSC",
        "colab_type": "code",
        "outputId": "3a54ac28-a8b5-4b25-cf0d-752486157684",
        "colab": {
          "base_uri": "https://localhost:8080/",
          "height": 55
        }
      },
      "source": [
        "# Extract patient reported symptoms and convert to dictionary with numbers \n",
        "\n",
        "\n",
        "## Parse the med_history_array and find unique comma seperated strings \n",
        "\n",
        "symptom_dict = {}\n",
        "index = 7\n",
        "\n",
        "for entry in df_upsampled['patient_reported_symptoms']:\n",
        "    entry = str(entry)\n",
        "    split_entry = re.findall('[A-Z][^A-Z]*', entry)\n",
        "    for symptom in split_entry:\n",
        "      symptom = symptom.strip().replace(',' , '')\n",
        "      \n",
        "      if symptom not in symptom_dict and 'None' not in symptom and 'nan' not in symptom:\n",
        "        symptom_dict[symptom] = index\n",
        "        index += 1\n",
        "\n",
        "print(\"The dictionary with numbers: \", symptom_dict)\n"
      ],
      "execution_count": 12,
      "outputs": [
        {
          "output_type": "stream",
          "text": [
            "The dictionary with numbers:  {'Fever chills or sweating': 7, 'New or worsening cough': 8, 'Shortness of breath': 9, 'Loss of taste': 10, 'Loss of smell': 11, 'Sore throat': 12, 'Body aches': 13}\n"
          ],
          "name": "stdout"
        }
      ]
    },
    {
      "cell_type": "code",
      "metadata": {
        "id": "jg4wy2FsnATn",
        "colab_type": "code",
        "outputId": "36975bcb-d687-4a25-ba1d-8c08f7f694c3",
        "colab": {
          "base_uri": "https://localhost:8080/",
          "height": 35
        }
      },
      "source": [
        "# Assign the patients numerical symptom combination to an array\n",
        "\n",
        "x_symp_text_train =  [] #np.zeros(len(curated_results_f2['patient_reported_symptoms']))\n",
        "\n",
        "\n",
        "for entry in df_upsampled['patient_reported_symptoms']:\n",
        "  entry = str(entry)\n",
        "  num_seq = []\n",
        "  \n",
        "    \n",
        "  split_entry = re.findall('[A-Z][^A-Z]*', entry)\n",
        "\n",
        "  for symptom in split_entry:\n",
        "      symptom = symptom.strip().replace(',' , '')\n",
        "\n",
        "      if 'None' not in symptom and 'nan' not in symptom:\n",
        "        num_seq.append(symptom_dict[symptom])\n",
        "\n",
        "  final_array = np.asarray(num_seq) \n",
        "\n",
        "  x_symp_text_train.append(final_array)\n",
        "    \n",
        "\n",
        "x_symp_text_train = np.asarray(x_symp_text_train)\n",
        "print('The shape of the x_text_train is ' , x_symp_text_train.shape)\n",
        "\n",
        "x_symp_text_train = pad_sequences(x_symp_text_train)\n",
        "\n",
        "\n",
        "\n"
      ],
      "execution_count": 14,
      "outputs": [
        {
          "output_type": "stream",
          "text": [
            "The shape of the x_text_train is  (132,)\n"
          ],
          "name": "stdout"
        }
      ]
    },
    {
      "cell_type": "code",
      "metadata": {
        "id": "S_9KCZRZGn-m",
        "colab_type": "code",
        "colab": {}
      },
      "source": [
        "# Convert the smoking info into digits \n",
        "\n",
        "df_upsampled.loc[df_upsampled['smoker'] == 'no', 'smoker'] = 0.0\n",
        "df_upsampled.loc[df_upsampled['smoker'] == 'yes', 'smoker'] = 1.0\n",
        "\n",
        "\n",
        "df_upsampled.loc[df_upsampled['gender'] == 'FEMALE', 'gender'] = 1.0\n",
        "df_upsampled.loc[df_upsampled['gender'] == 'MALE', 'gender'] = 0.0\n",
        "smoker_array = df_upsampled['smoker'].fillna(-1.0)\n",
        "\n",
        "\n",
        "smoking_array = np.asarray(df_upsampled['smoker'])\n",
        "\n",
        "age_array = np.asarray(df_upsampled['age'])\n",
        "\n",
        "gender_array = np.asarray(df_upsampled['gender'])\n",
        "\n"
      ],
      "execution_count": 0,
      "outputs": []
    },
    {
      "cell_type": "code",
      "metadata": {
        "id": "ZoMt2OpUS-8G",
        "colab_type": "code",
        "colab": {}
      },
      "source": [
        "# Convert the y strings to digits\n",
        "\n",
        "df_upsampled.loc[df_upsampled['corona_test'] == 'NEGATIVE', 'corona_test'] = 0.0\n",
        "df_upsampled.loc[df_upsampled['corona_test'] == 'POSITIVE', 'corona_test'] = 1.0\n",
        "#df.loc[df['corona_test'] == 'Not Tested', 'corona_test'] = -1\n",
        "\n",
        "y_text_array = np.asarray(df_upsampled['corona_test'])\n",
        "\n",
        "\n"
      ],
      "execution_count": 0,
      "outputs": []
    },
    {
      "cell_type": "code",
      "metadata": {
        "id": "0PR9NmKPo7sc",
        "colab_type": "code",
        "outputId": "ad9cbbf8-bd3c-4bb1-fcfd-d0fdb473d627",
        "colab": {
          "base_uri": "https://localhost:8080/",
          "height": 35
        }
      },
      "source": [
        "\n",
        "print('The shape of the y_text_train is ' , y_text_array.shape)\n"
      ],
      "execution_count": 17,
      "outputs": [
        {
          "output_type": "stream",
          "text": [
            "The shape of the y_text_train is  (132,)\n"
          ],
          "name": "stdout"
        }
      ]
    },
    {
      "cell_type": "code",
      "metadata": {
        "id": "Lfyc8xDbM8Wi",
        "colab_type": "code",
        "colab": {}
      },
      "source": [
        "# Combine the medical history input x, the symptom x ,\n",
        "# the age x , and the smoking x , the gender x into one final x array\n",
        "\n",
        "input_x_array = np.hstack((x_hist_text_train , x_symp_text_train))\n",
        "\n",
        "# Sort the sequences \n",
        "input_x_array.sort(axis=1)\n",
        "# Conver to binary values\n",
        "input_x_array[input_x_array != 0] = 1.0\n",
        "input_x_array[input_x_array == 0] = 0.0\n",
        "\n",
        "age_array_2d = np.expand_dims(age_array , axis =1)\n",
        "smoker_array_2d = np.expand_dims(smoker_array , axis=1)\n",
        "gender_array_2d = np.expand_dims(gender_array , axis=1)\n",
        "\n",
        "input_x_array = np.hstack((input_x_array , age_array_2d , smoker_array_2d , gender_array_2d))\n",
        "# Use the input_x_array to feed into both deep learning and statistical models.\n",
        "\n",
        "y_text_array = y_text_array.astype('int')"
      ],
      "execution_count": 0,
      "outputs": []
    },
    {
      "cell_type": "code",
      "metadata": {
        "id": "7XkIBouSezc4",
        "colab_type": "code",
        "colab": {}
      },
      "source": [
        "# Split into train, validate, and test\n",
        "\n",
        "## Question: How should we split the data-sets?\n",
        "\n",
        "\n",
        "def split_data(input_x_array , y_text_array , test_size=0.2 , random_state=1 ):\n",
        "\n",
        "\n",
        "  X_train, X_test, y_train, y_test = train_test_split(input_x_array, y_text_array, test_size=0.2, random_state=1) # What shouldd the X be?\n",
        "\n",
        "  X_train, X_val, y_train, y_val = train_test_split(X_train, y_train, test_size=0.5, random_state=1) # 0.5 x 0.8 = 0.4\n",
        "\n",
        "  \n",
        "  return X_train, X_val, y_train, y_val , X_test , y_test\n",
        "\n"
      ],
      "execution_count": 0,
      "outputs": []
    },
    {
      "cell_type": "code",
      "metadata": {
        "id": "FfWSIAusabF5",
        "colab_type": "code",
        "outputId": "d012ead9-d7e7-461a-81a4-bc97bd7cedd2",
        "colab": {
          "base_uri": "https://localhost:8080/",
          "height": 52
        }
      },
      "source": [
        "# Random Forest Classifer\n",
        "\n",
        "def rf_model(x_train , y_train , x_val , y_val , x_test , y_test):\n",
        "  model = rf()\n",
        "  model.fit(x_train , y_train)\n",
        "  \n",
        "  # Evaluate the model\n",
        "\n",
        "\n",
        "  \n",
        "  score = model.score(x_val , y_val)\n",
        "  predictions = model.predict(x_val)\n",
        "  return score , predictions\n",
        "\n",
        "\n",
        "# Perfrom ten times and average the results\n",
        "\n",
        "\n",
        "num_times = 50\n",
        "total_acc = np.zeros(num_times)\n",
        "\n",
        "predictions_rf = []\n",
        "\n",
        "for i in range(0, num_times):\n",
        "  X_train, X_val, y_train, y_val , X_test , y_test = split_data(input_x_array , y_text_array)\n",
        "  acc , predictions_rf = rf_model(X_train , y_train, X_val , y_val , X_test , y_test)\n",
        "  total_acc[i] = acc\n",
        "\n",
        "mean = np.mean(total_acc)\n",
        "\n",
        "print('The mean accuracy after ' , num_times , ' times is '  , mean)\n",
        "\n",
        "# K fold cross val\n",
        "\n",
        "cv=10\n",
        "model = rf()\n",
        "\n",
        "\n",
        "\n",
        "X_train, X_test, y_train, y_test = train_test_split(input_x_array, y_text_array, test_size=0.1, random_state=1) # What shouldd the X be?\n",
        "scores = cross_val_score(model, X_train, y_train, cv=cv)\n",
        "rf_cv_acc , rf_cv_std = scores.mean() , scores.std()\n",
        "print(\"Accuracy after \" , cv , \" fold cross validation is : %0.2f (+/- %0.2f)\" % (scores.mean(), scores.std() * 2))\n",
        "\n"
      ],
      "execution_count": 29,
      "outputs": [
        {
          "output_type": "stream",
          "text": [
            "The mean accuracy after  50  times is  0.9354716981132077\n",
            "Accuracy after  10  fold cross validation is : 0.96 (+/- 0.12)\n"
          ],
          "name": "stdout"
        }
      ]
    },
    {
      "cell_type": "code",
      "metadata": {
        "id": "AWrDZrNaUOaw",
        "colab_type": "code",
        "outputId": "ad90bdcc-2751-4f2c-d606-c656299e0c36",
        "colab": {
          "base_uri": "https://localhost:8080/",
          "height": 461
        }
      },
      "source": [
        "# RF Heatmap \n",
        "\n",
        "\n",
        "CM = confusion_matrix(y_val, predictions_rf)\n",
        "\n",
        "\n",
        "\n",
        "df_cm = pd.DataFrame(CM, index = [\"Pos\" , \"Neg\"],\n",
        "                  columns = [\"Pos\" , \"Neg\"])\n",
        "plt.figure(figsize = (10,7))\n",
        "\n",
        "plt.title('Confusion Matrix for Random Forest Text Classifier')\n",
        "plt.xlabel('Predicted')\n",
        "plt.ylabel('True Values')\n",
        "seaborn.heatmap(df_cm, annot=True)\n"
      ],
      "execution_count": 21,
      "outputs": [
        {
          "output_type": "execute_result",
          "data": {
            "text/plain": [
              "<matplotlib.axes._subplots.AxesSubplot at 0x7fc3d6e1fa58>"
            ]
          },
          "metadata": {
            "tags": []
          },
          "execution_count": 21
        },
        {
          "output_type": "display_data",
          "data": {
            "image/png": "[encoded data removed]",
            "text/plain": [
              "<Figure size 720x504 with 2 Axes>"
            ]
          },
          "metadata": {
            "tags": [],
            "needs_background": "light"
          }
        }
      ]
    },
    {
      "cell_type": "code",
      "metadata": {
        "id": "DZ7xCMb1zmOJ",
        "colab_type": "code",
        "outputId": "aa628002-8871-474c-95c8-520f5d171edb",
        "colab": {
          "base_uri": "https://localhost:8080/",
          "height": 52
        }
      },
      "source": [
        "#  SVM \n",
        "def svm_model(x_train , y_train , x_test , y_test , kernel , C):\n",
        "  model = SVC(C=C ,  kernel=kernel)\n",
        "  model.fit(x_train , y_train)\n",
        "  \n",
        "  predictions_svm = model.predict(x_test)\n",
        "  # Evaluate the model\n",
        "  score = model.score(x_test , y_test)\n",
        "  return score , predictions_svm\n",
        "\n",
        "\n",
        "num_times = 50\n",
        "total_acc = np.zeros(num_times)\n",
        "predictions_svm = []\n",
        "for i in range(0, num_times):\n",
        "  X_train, X_val, y_train, y_val , X_test , y_test = split_data(input_x_array , y_text_array) #Ensure class balance\n",
        "  acc , predictions_svm = svm_model(X_train , y_train, X_val , y_val , kernel='rbf' , C=1.0) \n",
        "\n",
        "  total_acc[i] = acc\n",
        "\n",
        "mean = np.mean(total_acc)\n",
        "\n",
        "print('The mean accuracy after ' , num_times , ' times is '  , mean)\n",
        "\n",
        "# K fold cross val\n",
        "\n",
        "cv=10\n",
        "C=1\n",
        "\n",
        "kernel = 'rbf'\n",
        "\n",
        "model = SVC(C=C ,  kernel=kernel)\n",
        "\n",
        "\n",
        "\n",
        "X_train, X_test, y_train, y_test = train_test_split(input_x_array, y_text_array, test_size=0.1, random_state=1) # What shouldd the X be?\n",
        "scores = cross_val_score(model, X_train, y_train, cv=cv)\n",
        "svm_cv_acc , svm_cv_std = scores.mean() , scores.std()\n",
        "print(\"Accuracy after \" , cv , \" fold cross validation is : %0.2f (+/- %0.2f)\" % (scores.mean(), scores.std() * 2))\n"
      ],
      "execution_count": 22,
      "outputs": [
        {
          "output_type": "stream",
          "text": [
            "The mean accuracy after  50  times is  0.6415094339622641\n",
            "Accuracy after  10  fold cross validation is : 0.69 (+/- 0.30)\n"
          ],
          "name": "stdout"
        }
      ]
    },
    {
      "cell_type": "code",
      "metadata": {
        "id": "Gfgzryu0YqmE",
        "colab_type": "code",
        "outputId": "5cd17362-85ce-42a3-e87b-2649a50faca4",
        "colab": {
          "base_uri": "https://localhost:8080/",
          "height": 461
        }
      },
      "source": [
        "# SVM Heatmap \n",
        "\n",
        "\n",
        "CM = confusion_matrix(y_val, predictions_svm)\n",
        "\n",
        "\n",
        "\n",
        "df_cm = pd.DataFrame(CM, index = [\"Pos\" , \"Neg\"],\n",
        "                  columns = [\"Pos\" , \"Neg\"])\n",
        "plt.figure(figsize = (10,7))\n",
        "plt.xlabel('Predicted')\n",
        "plt.ylabel('True Values')\n",
        "plt.title('Confusion Matrix for SVM Text Classifier')\n",
        "seaborn.heatmap(df_cm, annot=True)"
      ],
      "execution_count": 23,
      "outputs": [
        {
          "output_type": "execute_result",
          "data": {
            "text/plain": [
              "<matplotlib.axes._subplots.AxesSubplot at 0x7fc3d6e1f668>"
            ]
          },
          "metadata": {
            "tags": []
          },
          "execution_count": 23
        },
        {
          "output_type": "display_data",
          "data": {
            "image/png": "[encoded data removed]",
            "text/plain": [
              "<Figure size 720x504 with 2 Axes>"
            ]
          },
          "metadata": {
            "tags": [],
            "needs_background": "light"
          }
        }
      ]
    },
    {
      "cell_type": "code",
      "metadata": {
        "id": "itR6UITYqk4K",
        "colab_type": "code",
        "outputId": "676779be-c94f-43a8-f2e3-5aef1516f344",
        "colab": {
          "base_uri": "https://localhost:8080/",
          "height": 52
        }
      },
      "source": [
        "# Logistic Regression\n",
        "\n",
        "\n",
        "def logistic_reg_model(x_train , y_train , x_test , y_test):\n",
        "  model =  LogisticRegression()\n",
        "  model.fit(x_train , y_train)\n",
        "  \n",
        "  predictions_log = model.predict(x_test)\n",
        "  # Evaluate the model\n",
        "  score = model.score(x_test , y_test)\n",
        "  return score , predictions_log\n",
        "\n",
        "\n",
        "num_times = 50\n",
        "total_acc = np.zeros(num_times)\n",
        "predictions_log = []\n",
        "for i in range(0, num_times):\n",
        "  X_train, X_val, y_train, y_val , X_test , y_test = split_data(input_x_array , y_text_array) #Ensure class balance\n",
        "  acc , predictions_log = logistic_reg_model(X_train , y_train, X_val , y_val)\n",
        "\n",
        "  total_acc[i] = acc\n",
        "\n",
        "mean = np.mean(total_acc)\n",
        "\n",
        "print('The mean accuracy after ' , num_times , ' times is '  , mean)\n",
        "\n",
        "# K fold cross val\n",
        "cv=10\n",
        "X_train, X_test, y_train, y_test = train_test_split(input_x_array, y_text_array, test_size=0.1, random_state=1) # What shouldd the X be?\n",
        "model =  LogisticRegression(max_iter=1000)\n",
        "scores = cross_val_score(model, X_train, y_train, cv=cv)\n",
        "\n",
        "log_cv_acc , log_cv_std = scores.mean() , scores.std()\n",
        "print(\"Accuracy after \" , cv , \" fold cross validation is : %0.2f (+/- %0.2f)\" % (scores.mean(), scores.std() * 2))\n",
        "\n"
      ],
      "execution_count": 24,
      "outputs": [
        {
          "output_type": "stream",
          "text": [
            "The mean accuracy after  50  times is  0.8679245283018868\n",
            "Accuracy after  10  fold cross validation is : 0.82 (+/- 0.19)\n"
          ],
          "name": "stdout"
        }
      ]
    },
    {
      "cell_type": "code",
      "metadata": {
        "id": "rWlcQwzduW57",
        "colab_type": "code",
        "outputId": "3d256546-5f4b-4c7b-ecf7-cee4cb83a66f",
        "colab": {
          "base_uri": "https://localhost:8080/",
          "height": 461
        }
      },
      "source": [
        "# Logistic Regression Heatmap \n",
        "\n",
        "CM = confusion_matrix(y_val, predictions_log)\n",
        "\n",
        "\n",
        "\n",
        "df_cm = pd.DataFrame(CM, index = [\"Pos\" , \"Neg\"],\n",
        "                  columns = [\"Pos\" , \"Neg\"])\n",
        "plt.figure(figsize = (10,7))\n",
        "plt.xlabel('Predicted')\n",
        "plt.ylabel('True Values')\n",
        "plt.title('Confusion Matrix for Logistic Regression Text Classifier')\n",
        "seaborn.heatmap(df_cm, annot=True)"
      ],
      "execution_count": 25,
      "outputs": [
        {
          "output_type": "execute_result",
          "data": {
            "text/plain": [
              "<matplotlib.axes._subplots.AxesSubplot at 0x7fc3d3254f98>"
            ]
          },
          "metadata": {
            "tags": []
          },
          "execution_count": 25
        },
        {
          "output_type": "display_data",
          "data": {
            "image/png": "[encoded data removed]",
            "text/plain": [
              "<Figure size 720x504 with 2 Axes>"
            ]
          },
          "metadata": {
            "tags": [],
            "needs_background": "light"
          }
        }
      ]
    },
    {
      "cell_type": "code",
      "metadata": {
        "id": "e7kkZM0_t-BT",
        "colab_type": "code",
        "outputId": "1d94b6ac-0bab-4c32-dfb3-9366a7a8af1b",
        "colab": {
          "base_uri": "https://localhost:8080/",
          "height": 297
        }
      },
      "source": [
        "# Benchmark Different Models\n",
        "\n",
        "model_names = ['Random Forest' , 'SVM' , 'Log. Regression']\n",
        "x_pos = np.arange(len(model_names))\n",
        "model_acc_means = [rf_cv_acc , svm_cv_acc , log_cv_acc]\n",
        "model_acc_stds = [rf_cv_std , svm_cv_std , log_cv_std]\n",
        "\n",
        "\n",
        "fig, ax = plt.subplots()\n",
        "ax.bar(x_pos, model_acc_means, yerr=model_acc_stds, align='center', alpha=0.5, ecolor='black', capsize=10)\n",
        "ax.set_ylabel('10 Fold Cross Val Accuracy')\n",
        "ax.set_xticks(x_pos)\n",
        "ax.set_xticklabels(model_names)\n",
        "ax.set_title('Text Model Benchmarking')\n",
        "ax.yaxis.grid(True)\n",
        "\n",
        "# Save the figure and show\n",
        "plt.tight_layout()\n",
        "plt.savefig('text_model_benchmark.png')\n",
        "plt.show()"
      ],
      "execution_count": 26,
      "outputs": [
        {
          "output_type": "display_data",
          "data": {
            "image/png": "[encoded data removed]",
            "text/plain": [
              "<Figure size 432x288 with 1 Axes>"
            ]
          },
          "metadata": {
            "tags": [],
            "needs_background": "light"
          }
        }
      ]
    }
  ]
}