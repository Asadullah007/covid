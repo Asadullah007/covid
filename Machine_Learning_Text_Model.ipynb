{
  "nbformat": 4,
  "nbformat_minor": 0,
  "metadata": {
    "colab": {
      "name": "Machine_Learning_Text_Model.ipynb",
      "provenance": []
    },
    "kernelspec": {
      "name": "python3",
      "display_name": "Python 3"
    }
  },
  "cells": [
    {
      "cell_type": "code",
      "metadata": {
        "id": "7PnU1260K4ou",
        "colab_type": "code",
        "colab": {}
      },
      "source": [
        "# Imports\n",
        "\n",
        "import pandas as pd\n",
        "import numpy as np\n",
        "import re\n",
        "from sklearn.ensemble import RandomForestClassifier as rf\n",
        "from sklearn.model_selection import train_test_split\n"
      ],
      "execution_count": 0,
      "outputs": []
    },
    {
      "cell_type": "code",
      "metadata": {
        "id": "Xc1b6hkvI0uc",
        "colab_type": "code",
        "colab": {}
      },
      "source": [
        "# Import the data files to the local directory\n",
        "\n",
        "\n",
        "!wget --user <USER> --password <PASSWORD>  <LINK> \n"
      ],
      "execution_count": 0,
      "outputs": []
    },
    {
      "cell_type": "code",
      "metadata": {
        "id": "9Tn2pHaUKtAT",
        "colab_type": "code",
        "outputId": "14ded3d4-580a-42ab-9c86-5d2d913d2deb",
        "colab": {
          "base_uri": "https://localhost:8080/",
          "height": 204
        }
      },
      "source": [
        "# Extract the textual information from the .csv to a dataframe\n",
        "\n",
        "df = pd.read_json(r'/content/admin_access_data')\n",
        "df.head()"
      ],
      "execution_count": 6,
      "outputs": [
        {
          "output_type": "execute_result",
          "data": {
            "text/html": [
              "<div>\n",
              "<style scoped>\n",
              "    .dataframe tbody tr th:only-of-type {\n",
              "        vertical-align: middle;\n",
              "    }\n",
              "\n",
              "    .dataframe tbody tr th {\n",
              "        vertical-align: top;\n",
              "    }\n",
              "\n",
              "    .dataframe thead th {\n",
              "        text-align: right;\n",
              "    }\n",
              "</style>\n",
              "<table border=\"1\" class=\"dataframe\">\n",
              "  <thead>\n",
              "    <tr style=\"text-align: right;\">\n",
              "      <th></th>\n",
              "      <th>age</th>\n",
              "      <th>consent</th>\n",
              "      <th>corona_test</th>\n",
              "      <th>filename</th>\n",
              "      <th>gender</th>\n",
              "      <th>medical_history</th>\n",
              "      <th>patientID</th>\n",
              "      <th>patient_id</th>\n",
              "      <th>patient_reported_symptoms</th>\n",
              "      <th>sampleType</th>\n",
              "      <th>data_t</th>\n",
              "      <th>smoker</th>\n",
              "      <th>video_patient_finder_tip_filename</th>\n",
              "    </tr>\n",
              "  </thead>\n",
              "  <tbody>\n",
              "    <tr>\n",
              "      <th>0</th>\n",
              "      <td>41 - 55</td>\n",
              "      <td>yes</td>\n",
              "      <td>Negative</td>\n",
              "      <td>https://detectnowdatalake.blob.core.windows.ne...</td>\n",
              "      <td>male</td>\n",
              "      <td>Diabetes with complications,</td>\n",
              "      <td>DMC-202</td>\n",
              "      <td>637</td>\n",
              "      <td>Fever, chills, or sweating,New or worsening co...</td>\n",
              "      <td>study</td>\n",
              "      <td>NaN</td>\n",
              "      <td>NaN</td>\n",
              "      <td>NaN</td>\n",
              "    </tr>\n",
              "    <tr>\n",
              "      <th>1</th>\n",
              "      <td>31 - 40</td>\n",
              "      <td>yes</td>\n",
              "      <td>Not Tested</td>\n",
              "      <td>https://detectnowdatalake.blob.core.windows.ne...</td>\n",
              "      <td>female</td>\n",
              "      <td>Disease or conditions that make it harder to c...</td>\n",
              "      <td>20030511135111357902</td>\n",
              "      <td>648</td>\n",
              "      <td>New or worsening cough,Sore throat,</td>\n",
              "      <td>study</td>\n",
              "      <td>NaN</td>\n",
              "      <td>NaN</td>\n",
              "      <td>NaN</td>\n",
              "    </tr>\n",
              "    <tr>\n",
              "      <th>2</th>\n",
              "      <td>31 - 40</td>\n",
              "      <td>yes</td>\n",
              "      <td>Not Tested</td>\n",
              "      <td>https://detectnowdatalake.blob.core.windows.ne...</td>\n",
              "      <td>male</td>\n",
              "      <td></td>\n",
              "      <td>200413111464227</td>\n",
              "      <td>649</td>\n",
              "      <td>Fever, chills, or sweating,</td>\n",
              "      <td>study</td>\n",
              "      <td>NaN</td>\n",
              "      <td>NaN</td>\n",
              "      <td>NaN</td>\n",
              "    </tr>\n",
              "    <tr>\n",
              "      <th>3</th>\n",
              "      <td>18 - 30</td>\n",
              "      <td>yes</td>\n",
              "      <td>Not Tested</td>\n",
              "      <td>https://detectnowdatalake.blob.core.windows.ne...</td>\n",
              "      <td>male</td>\n",
              "      <td></td>\n",
              "      <td>200413111464200</td>\n",
              "      <td>650</td>\n",
              "      <td></td>\n",
              "      <td>guest</td>\n",
              "      <td>NaN</td>\n",
              "      <td>NaN</td>\n",
              "      <td>NaN</td>\n",
              "    </tr>\n",
              "    <tr>\n",
              "      <th>4</th>\n",
              "      <td>31 - 40</td>\n",
              "      <td>yes</td>\n",
              "      <td>Not Tested</td>\n",
              "      <td>https://detectnowdatalake.blob.core.windows.ne...</td>\n",
              "      <td>male</td>\n",
              "      <td></td>\n",
              "      <td>200413111463989</td>\n",
              "      <td>652</td>\n",
              "      <td>New or worsening cough,Loss of taste,Loss of s...</td>\n",
              "      <td>study</td>\n",
              "      <td>NaN</td>\n",
              "      <td>NaN</td>\n",
              "      <td>NaN</td>\n",
              "    </tr>\n",
              "  </tbody>\n",
              "</table>\n",
              "</div>"
            ],
            "text/plain": [
              "       age consent corona_test  ... data_t smoker video_patient_finder_tip_filename\n",
              "0  41 - 55     yes    Negative  ...    NaN    NaN                               NaN\n",
              "1  31 - 40     yes  Not Tested  ...    NaN    NaN                               NaN\n",
              "2  31 - 40     yes  Not Tested  ...    NaN    NaN                               NaN\n",
              "3  18 - 30     yes  Not Tested  ...    NaN    NaN                               NaN\n",
              "4  31 - 40     yes  Not Tested  ...    NaN    NaN                               NaN\n",
              "\n",
              "[5 rows x 13 columns]"
            ]
          },
          "metadata": {
            "tags": []
          },
          "execution_count": 6
        }
      ]
    },
    {
      "cell_type": "code",
      "metadata": {
        "id": "5o0cYQj6LS7V",
        "colab_type": "code",
        "outputId": "780dc534-9ff1-4072-e57b-db55631b58b9",
        "colab": {
          "base_uri": "https://localhost:8080/",
          "height": 34
        }
      },
      "source": [
        "# Extract Medical History and convert to dictionary with numbers\n",
        "\n",
        "med_history_array = np.asarray(df['medical_history'])\n",
        "\n",
        "\n",
        "\n",
        "med_history_array = str(med_history_array)\n",
        "\n",
        "\n",
        "## Parse the med_history_array and find unique comma seperated strings \n",
        "\n",
        "med_history_dict = {}\n",
        "index = 0\n",
        "\n",
        "for entry in med_history_array.splitlines():\n",
        "    history_list = entry.split(\",\")\n",
        "    for hist in history_list:\n",
        "      hist = hist.replace('\\'' , '')\n",
        "      hist = hist.replace('[' , '')\n",
        "      hist = hist.replace(']' , '')\n",
        "      hist = hist.strip()\n",
        "      if hist not in med_history_dict and 'None' not in hist and hist is not '':    \n",
        "        med_history_dict[hist] = index       \n",
        "        index += 1\n",
        "\n",
        "\n",
        "print(\"The dictionary with numbers: \", med_history_dict)\n"
      ],
      "execution_count": 43,
      "outputs": [
        {
          "output_type": "stream",
          "text": [
            "The dictionary with numbers:  {'Diabetes with complications': 0, 'Disease or conditions that make it harder to cough': 1, 'Asthma or chronic lung disease': 2, 'Congestive heart failure': 3, 'Extreme obesity': 4, 'Pregnancy': 5}\n"
          ],
          "name": "stdout"
        }
      ]
    },
    {
      "cell_type": "code",
      "metadata": {
        "id": "BIO-NOHWRwAV",
        "colab_type": "code",
        "outputId": "7f1e65f2-f9b6-4483-ebbd-955b2f46f991",
        "colab": {
          "base_uri": "https://localhost:8080/",
          "height": 34
        }
      },
      "source": [
        "# Assign the patients numerical history combination to an array\n",
        "\n",
        "x_hist_text_train = np.zeros(len(df['medical_history']))\n",
        "\n",
        "index = 0\n",
        "\n",
        "for entry in df['medical_history']:\n",
        "  num_seq = ''\n",
        "  if 'None' not in entry:\n",
        "    for string in entry.split(\",\"):\n",
        "      if string is not '':\n",
        "        num_seq += str(med_history_dict[string])\n",
        "\n",
        "  if len(num_seq) != 0:\n",
        "    x_hist_text_train[index] = int(num_seq)\n",
        "    \n",
        "  else: \n",
        "    x_hist_text_train[index] = -1.0\n",
        "  index += 1\n",
        "\n",
        "\n",
        "print('The shape of the x_text_train is ' , x_hist_text_train.shape)\n"
      ],
      "execution_count": 59,
      "outputs": [
        {
          "output_type": "stream",
          "text": [
            "The shape of the x_text_train is  (79,)\n"
          ],
          "name": "stdout"
        }
      ]
    },
    {
      "cell_type": "code",
      "metadata": {
        "id": "0l5jU_sChzSC",
        "colab_type": "code",
        "outputId": "7ae5ac43-b33e-44ab-812b-a4740876ee6a",
        "colab": {
          "base_uri": "https://localhost:8080/",
          "height": 34
        }
      },
      "source": [
        "# Extract patient reported symptoms and convert to dictionary with numbers \n",
        "\n",
        "symptom_array = np.asarray(df['patient_reported_symptoms'])\n",
        "\n",
        "symptom_array = str(symptom_array)\n",
        "\n",
        "\n",
        "## Parse the med_history_array and find unique comma seperated strings \n",
        "\n",
        "symptom_dict = {}\n",
        "index = 0\n",
        "\n",
        "for entry in symptom_array.splitlines():\n",
        "    split_entry = re.findall('[A-Z][^A-Z]*', entry)\n",
        "    for symptom in split_entry:\n",
        "      symptom = symptom.strip().replace(',' , '')\n",
        "      symptom = symptom.strip().replace('\\'' , '')\n",
        "      symptom = symptom.replace('nan' , '').strip()\n",
        "      symptom = symptom.replace(']' , '')\n",
        "      if symptom not in symptom_dict and 'None' not in symptom:\n",
        "        symptom_dict[symptom] = index\n",
        "        index += 1\n",
        "\n",
        "print(\"The dictionary with numbers: \", symptom_dict)\n"
      ],
      "execution_count": 45,
      "outputs": [
        {
          "output_type": "stream",
          "text": [
            "The dictionary with numbers:  {'Fever chills or sweating': 0, 'New or worsening cough': 1, 'Sore throat': 2, 'Loss of taste': 3, 'Loss of smell': 4, 'Shortness of breath': 5, 'Body aches': 6}\n"
          ],
          "name": "stdout"
        }
      ]
    },
    {
      "cell_type": "code",
      "metadata": {
        "id": "jg4wy2FsnATn",
        "colab_type": "code",
        "outputId": "2a8ccc2e-7de0-41c1-c1e1-dc624787c8af",
        "colab": {
          "base_uri": "https://localhost:8080/",
          "height": 34
        }
      },
      "source": [
        "# Assign the patients numerical symptom combination to an array\n",
        "\n",
        "x_symp_text_train = np.zeros(len(df['patient_reported_symptoms']))\n",
        "\n",
        "index = 0\n",
        "\n",
        "for entry in df['patient_reported_symptoms']:\n",
        "  num_seq = ''\n",
        "  if type(entry) is not float:\n",
        "    \n",
        "    split_entry = re.findall('[A-Z][^A-Z]*', entry)\n",
        "\n",
        "    for symptom in split_entry:\n",
        "        symptom = symptom.strip().replace(',' , '')\n",
        "        symptom = symptom.strip().replace('\\'' , '')\n",
        "        symptom = symptom.replace('nan' , '').strip()\n",
        "        symptom = symptom.replace(']' , '')\n",
        "       \n",
        "\n",
        "        if 'None' not in symptom:\n",
        "          num_seq += str(symptom_dict[symptom])\n",
        "  \n",
        "  if len(num_seq) != 0:\n",
        "    x_symp_text_train[index] = int(num_seq)\n",
        "    \n",
        "  else: \n",
        "    x_symp_text_train[index] = -1.0\n",
        "  index += 1\n",
        "\n",
        "print('The shape of the x_text_train is ' , x_symp_text_train.shape)\n"
      ],
      "execution_count": 60,
      "outputs": [
        {
          "output_type": "stream",
          "text": [
            "The shape of the x_text_train is  (79,)\n"
          ],
          "name": "stdout"
        }
      ]
    },
    {
      "cell_type": "code",
      "metadata": {
        "id": "ZoMt2OpUS-8G",
        "colab_type": "code",
        "colab": {}
      },
      "source": [
        "# Convert the y strings to digits\n",
        "\n",
        "df.loc[df['corona_test'] == 'Negative', 'corona_test'] = 0\n",
        "df.loc[df['corona_test'] == 'Positive', 'corona_test'] = 1\n",
        "df.loc[df['corona_test'] == 'Not Tested', 'corona_test'] = -1\n",
        "\n",
        "y_text_array = np.asarray(df['corona_test'])\n",
        "\n",
        "\n"
      ],
      "execution_count": 0,
      "outputs": []
    },
    {
      "cell_type": "code",
      "metadata": {
        "id": "0PR9NmKPo7sc",
        "colab_type": "code",
        "outputId": "656f2727-9319-40c2-db4e-f77ae6e4e9a0",
        "colab": {
          "base_uri": "https://localhost:8080/",
          "height": 391
        }
      },
      "source": [
        "print('The x medical history sequence array is: ' , x_hist_text_train)\n",
        "print('The x symptoms sequence array is: ' , x_symp_text_train)\n",
        "print('The shape of the y_text_train is ' , y_text_array.shape)\n",
        "\n"
      ],
      "execution_count": 62,
      "outputs": [
        {
          "output_type": "stream",
          "text": [
            "The x medical history sequence array is:  [ 0.  1. -1. -1. -1. -1. -1.  2. -1. -1. -1.  1.  1.  1.  0.  3.  1. -1.\n",
            "  1. -1. -1.  2. -1. -1. -1. -1.  2. -1. -1. -1. -1. 23. -1. -1.  2. -1.\n",
            "  4. -1. -1. -1. -1. -1. -1. -1.  2. -1. -1. -1.  2.  1.  0.  0. -1. -1.\n",
            " -1. -1. -1.  1. -1. -1.  1. -1. -1. -1. 21.  1.  0.  0.  2. 20. -1.  5.\n",
            " -1.  3.  1.  3.  0. -1. -1.]\n",
            "The x symptoms sequence array is:  [ 1.00000e+00  1.20000e+01  0.00000e+00 -1.00000e+00  1.34000e+02\n",
            "  5.34000e+02  1.00000e+00  5.13400e+03 -1.00000e+00  1.00000e+00\n",
            "  5.10000e+01  2.00000e+00  1.00000e+00  1.00000e+00 -1.00000e+00\n",
            "  1.26000e+02 -1.00000e+00 -1.00000e+00  5.16000e+02 -1.00000e+00\n",
            " -1.00000e+00  5.10000e+01  1.20000e+01  5.10000e+01 -1.00000e+00\n",
            "  5.00000e+00  2.60000e+01  5.10000e+01  1.20000e+01  2.00000e+00\n",
            "  5.12000e+02  5.00000e+00  5.26300e+03 -1.00000e+00  5.00000e+00\n",
            "  5.00000e+00  0.00000e+00 -1.00000e+00  2.00000e+00  5.10000e+01\n",
            "  5.00000e+00  5.00000e+00  1.00000e+00  5.00000e+00  5.60000e+01\n",
            "  2.60000e+01  1.00000e+00  5.24000e+02  1.23000e+02 -1.00000e+00\n",
            " -1.00000e+00  5.12300e+03  2.00000e+00  1.20000e+01  5.20000e+01\n",
            "  2.00000e+00 -1.00000e+00  5.26000e+02  0.00000e+00  1.00000e+00\n",
            "  5.12000e+02  1.00000e+00  0.00000e+00  5.20000e+01  5.00000e+00\n",
            "  5.16000e+02 -1.00000e+00 -1.00000e+00  3.00000e+00  5.12630e+04\n",
            " -1.00000e+00  6.30000e+01 -1.00000e+00  1.24000e+02  5.12634e+05\n",
            "  5.14000e+02  5.13400e+03  1.00000e+00 -1.00000e+00]\n",
            "The shape of the y_text_train is  (79,)\n"
          ],
          "name": "stdout"
        }
      ]
    },
    {
      "cell_type": "code",
      "metadata": {
        "id": "7XkIBouSezc4",
        "colab_type": "code",
        "colab": {}
      },
      "source": [
        "# Split into train, validate, and test\n",
        "\n",
        "## Question: How should we split the data-sets?\n",
        "\n",
        "\n",
        "X_train, X_test, y_train, y_test = train_test_split(x_hist_text_train, y_text_array, test_size=0.2, random_state=1) # What shouldd the X be?\n",
        "\n",
        "X_train, X_val, y_train, y_val = train_test_split(X_train, y_train, test_size=0.25, random_state=1) # 0.25 x 0.8 = 0.2\n",
        "\n",
        "## Another question: How should we combine the medical history and the symptoms?"
      ],
      "execution_count": 0,
      "outputs": []
    },
    {
      "cell_type": "code",
      "metadata": {
        "id": "FfWSIAusabF5",
        "colab_type": "code",
        "colab": {}
      },
      "source": [
        "# Random Forest Classifer\n",
        "\n",
        "def rf_model(x_train , y_train , num_branches):\n",
        "\n",
        "  model = rf()\n",
        "  model.fit(x_train , y_train)\n",
        "  \n",
        "  # Evaluate the model\n",
        "  \n"
      ],
      "execution_count": 0,
      "outputs": []
    },
    {
      "cell_type": "code",
      "metadata": {
        "id": "DZ7xCMb1zmOJ",
        "colab_type": "code",
        "colab": {}
      },
      "source": [
        "#  - SVM "
      ],
      "execution_count": 0,
      "outputs": []
    },
    {
      "cell_type": "code",
      "metadata": {
        "id": "p1w3VpSVzvEh",
        "colab_type": "code",
        "colab": {}
      },
      "source": [
        "# - Decision Tree"
      ],
      "execution_count": 0,
      "outputs": []
    },
    {
      "cell_type": "code",
      "metadata": {
        "id": "pQEvkP1oUKhB",
        "colab_type": "code",
        "colab": {}
      },
      "source": [
        "# TODO: Build more complex models\n",
        "\n",
        "# - Deep Learning Model ???\n",
        "# Things to try\n",
        "\n",
        "# - Fully connected NN\n",
        "# - K means clustering on the digit vectors from the text\n"
      ],
      "execution_count": 0,
      "outputs": []
    }
  ]
}